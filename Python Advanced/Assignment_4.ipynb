{
 "cells": [
  {
   "cell_type": "markdown",
   "metadata": {},
   "source": [
    "### 1. Which two operator overloading methods can you use in your classes to support iteration?\n",
    "\n",
    "In Python, you can use the `__iter__()` and `__next__()` methods to implement iteration in your classes by overloading the corresponding operators.\n",
    "\n",
    "1. `__iter__()`: This method is used to make an object iterable. It should return an iterator object. This method is called when you use the `iter()` function on an object or when you use it in a for loop.\n",
    "\n",
    "2. `__next__()`: This method is used to retrieve the next item from the iterator. It should return the next item in the sequence. This method is called when you use the `next()` function on an iterator.\n",
    "\n",
    "Here's a simple example demonstrating the usage of these methods:"
   ]
  },
  {
   "cell_type": "code",
   "execution_count": 1,
   "metadata": {},
   "outputs": [
    {
     "name": "stdout",
     "output_type": "stream",
     "text": [
      "1\n",
      "2\n",
      "3\n",
      "4\n",
      "5\n"
     ]
    }
   ],
   "source": [
    "class MyIterator:\n",
    "    def __init__(self, limit):\n",
    "        self.limit = limit\n",
    "        self.current = 0\n",
    "\n",
    "    def __iter__(self):\n",
    "        return self\n",
    "\n",
    "    def __next__(self):\n",
    "        if self.current < self.limit:\n",
    "            self.current += 1\n",
    "            return self.current\n",
    "        else:\n",
    "            raise StopIteration\n",
    "\n",
    "# Usage\n",
    "iterator = MyIterator(5)\n",
    "for num in iterator:\n",
    "    print(num)"
   ]
  },
  {
   "cell_type": "markdown",
   "metadata": {},
   "source": [
    "### 2. In what contexts do the two operator overloading methods manage printing?\n",
    "\n",
    "\n",
    "In Python, two operator overloading methods are primarily involved in managing printing:\n",
    "\n",
    "1. `__str__()`: This method is called by the `str()` function and by the `print()` function to compute the \"informal\" or nicely printable string representation of an object. It should return a string that is suitable for presentation to end-users. `__str__()` is intended to provide a human-readable string representation of the object.\n",
    "\n",
    "2. `__repr__()`: This method is called by the `repr()` built-in function and by Python's interactive interpreter to compute the \"official\" string representation of an object. It should return a string that, when passed to the `eval()` function, would yield an object with the same value. `__repr__()` is more for developers and debugging purposes. It's meant to give a string representation that ideally can be used to recreate the object.\n",
    "\n",
    "Here's an example demonstrating the usage of both methods:\n"
   ]
  },
  {
   "cell_type": "code",
   "execution_count": 2,
   "metadata": {},
   "outputs": [
    {
     "name": "stdout",
     "output_type": "stream",
     "text": [
      "This is MyClass with value: 10\n",
      "MyClass(10)\n"
     ]
    }
   ],
   "source": [
    "class MyClass:\n",
    "    def __init__(self, value):\n",
    "        self.value = value\n",
    "\n",
    "    def __str__(self):\n",
    "        return f\"This is MyClass with value: {self.value}\"\n",
    "\n",
    "    def __repr__(self):\n",
    "        return f\"MyClass({self.value})\"\n",
    "\n",
    "# Usage\n",
    "obj = MyClass(10)\n",
    "\n",
    "print(str(obj))   # Calls __str__()\n",
    "print(repr(obj))  # Calls __repr__()"
   ]
  },
  {
   "cell_type": "markdown",
   "metadata": {},
   "source": [
    "### 3. In a class, how do you intercept slice operations?\n",
    "\n",
    "\n",
    "To intercept slice operations in a Python class, you need to implement the `__getitem__()` method with support for slice objects. When you use square brackets (`[]`) to access elements of an object (like a list, tuple, or custom class), Python internally calls the `__getitem__()` method. When a slice is used (`[start:stop:step]`), Python passes a slice object to `__getitem__()`, allowing you to handle slice operations.\n",
    "\n",
    "Here's how you can intercept slice operations in a class:"
   ]
  },
  {
   "cell_type": "code",
   "execution_count": 3,
   "metadata": {},
   "outputs": [
    {
     "name": "stdout",
     "output_type": "stream",
     "text": [
      "[2, 3, 4]\n"
     ]
    }
   ],
   "source": [
    "class MyList:\n",
    "    def __init__(self, data):\n",
    "        self.data = data\n",
    "\n",
    "    def __getitem__(self, key):\n",
    "        if isinstance(key, slice):\n",
    "            # If key is a slice object\n",
    "            start = key.start if key.start is not None else 0\n",
    "            stop = key.stop if key.stop is not None else len(self.data)\n",
    "            step = key.step if key.step is not None else 1\n",
    "            return self.data[start:stop:step]\n",
    "        else:\n",
    "            # If key is a single index\n",
    "            return self.data[key]\n",
    "\n",
    "# Usage\n",
    "my_list = MyList([1, 2, 3, 4, 5])\n",
    "print(my_list[1:4])  # Slice operation"
   ]
  },
  {
   "cell_type": "markdown",
   "metadata": {},
   "source": [
    "### 4. In a class, how do you capture in-place addition?\n",
    "\n",
    "To capture in-place addition (e.g., `+=` operator) in a Python class, you need to implement the `__iadd__()` method. This method allows you to define the behavior when the `+=` operator is used with instances of your class. \n",
    "\n",
    "Here's how you can capture in-place addition in a class:"
   ]
  },
  {
   "cell_type": "code",
   "execution_count": 4,
   "metadata": {},
   "outputs": [
    {
     "name": "stdout",
     "output_type": "stream",
     "text": [
      "5\n",
      "10\n",
      "15\n"
     ]
    }
   ],
   "source": [
    "class MyClass:\n",
    "    def __init__(self, value):\n",
    "        self.value = value\n",
    "\n",
    "    def __iadd__(self, other):\n",
    "        if isinstance(other, MyClass):\n",
    "            self.value += other.value\n",
    "        else:\n",
    "            self.value += other\n",
    "        return self\n",
    "\n",
    "# Usage\n",
    "obj1 = MyClass(5)\n",
    "obj2 = MyClass(10)\n",
    "\n",
    "print(obj1.value)  # Output: 5\n",
    "print(obj2.value)  # Output: 10\n",
    "\n",
    "obj1 += obj2\n",
    "print(obj1.value)  # Output: 15"
   ]
  },
  {
   "cell_type": "markdown",
   "metadata": {},
   "source": [
    "### 5. When is it appropriate to use operator overloading?\n",
    "\n",
    "\n",
    "Operator overloading should be used judiciously and only when it enhances the readability, clarity, and expressiveness of your code. Here are some scenarios where it's appropriate to use operator overloading:\n",
    "\n",
    "1. **Enhancing Readability**: When overloading operators makes the code more natural and readable, it can improve code comprehension and maintainability. For example, implementing `__add__()` to concatenate strings or merge lists can make the code more intuitive.\n",
    "\n",
    "2. **Emulating Built-in Types**: If you're creating a custom class that behaves like a built-in type (such as a custom numeric type or a custom collection), overloading operators can make your class more consistent with the behavior of built-in types. For instance, implementing arithmetic operations for a custom numeric type.\n",
    "\n",
    "3. **Reducing Boilerplate**: Operator overloading can help reduce boilerplate code by providing concise syntax for common operations. For example, overloading comparison operators (`__lt__()`, `__gt__()`, etc.) can simplify conditional statements."
   ]
  }
 ],
 "metadata": {
  "kernelspec": {
   "display_name": "Python 3",
   "language": "python",
   "name": "python3"
  },
  "language_info": {
   "codemirror_mode": {
    "name": "ipython",
    "version": 3
   },
   "file_extension": ".py",
   "mimetype": "text/x-python",
   "name": "python",
   "nbconvert_exporter": "python",
   "pygments_lexer": "ipython3",
   "version": "3.10.9"
  }
 },
 "nbformat": 4,
 "nbformat_minor": 2
}
