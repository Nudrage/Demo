{
 "cells": [
  {
   "cell_type": "markdown",
   "metadata": {},
   "source": [
    "### 1. What is the meaning of multiple inheritance?\n",
    "\n",
    "Multiple inheritance is a feature in object-oriented programming languages where a class can inherit attributes and methods from more than one parent class. This means that a subclass can have multiple direct superclasses, allowing it to inherit behavior and characteristics from each of them.\n",
    "\n",
    "Here's a simple example in Python to illustrate multiple inheritance:"
   ]
  },
  {
   "cell_type": "code",
   "execution_count": 9,
   "metadata": {},
   "outputs": [
    {
     "name": "stdout",
     "output_type": "stream",
     "text": [
      "Method 1 from Parent1\n",
      "Method 2 from Parent2\n"
     ]
    }
   ],
   "source": [
    "class Parent1:\n",
    "    def method1(self):\n",
    "        print(\"Method 1 from Parent1\")\n",
    "\n",
    "class Parent2:\n",
    "    def method2(self):\n",
    "        print(\"Method 2 from Parent2\")\n",
    "\n",
    "class Child(Parent1, Parent2):\n",
    "    pass\n",
    "\n",
    "# Create an instance of Child\n",
    "child = Child()\n",
    "\n",
    "# Child inherits methods from both Parent1 and Parent2\n",
    "child.method1()  # Output: Method 1 from Parent1\n",
    "child.method2()  # Output: Method 2 from Parent2"
   ]
  },
  {
   "cell_type": "markdown",
   "metadata": {},
   "source": [
    "### 2. What is the concept of delegation?\n",
    "\n",
    "\n",
    "Delegation is a design pattern and a programming technique where an object forwards certain operations to another object, known as the delegate, instead of handling them directly. The delegate object is responsible for performing the delegated operations, while the delegating object focuses on its primary responsibilities.\n",
    "\n",
    "Delegation promotes modular design, code reusability, and separation of concerns by allowing objects to collaborate without tightly coupling their implementations. It enables objects to cooperate and share functionality without inheriting from each other, thus avoiding some of the issues associated with inheritance, such as tight coupling and the limitations of single inheritance."
   ]
  },
  {
   "cell_type": "markdown",
   "metadata": {},
   "source": [
    "### 3. What is the concept of composition?\n",
    "\n",
    "\n",
    "Composition is a design principle and a programming technique in object-oriented programming (OOP) where objects are combined or composed of other objects as parts. Unlike inheritance, where one class inherits behavior from another class, composition involves creating complex objects by assembling simpler objects together.\n",
    "\n",
    "In composition, objects are typically created and managed as members (attributes or fields) of another class. The containing class is often referred to as the \"composite\" or \"container\" class, while the objects it contains are referred to as \"components\" or \"parts.\" The composite class delegates certain responsibilities to its component objects, thus achieving code reuse and promoting modular design.\n",
    "\n",
    "Here's a simple example in Python to illustrate composition:"
   ]
  },
  {
   "cell_type": "code",
   "execution_count": 10,
   "metadata": {},
   "outputs": [
    {
     "name": "stdout",
     "output_type": "stream",
     "text": [
      "Engine started\n",
      "Car started\n"
     ]
    }
   ],
   "source": [
    "class Engine:\n",
    "    def start(self):\n",
    "        print(\"Engine started\")\n",
    "\n",
    "class Car:\n",
    "    def __init__(self):\n",
    "        self.engine = Engine()\n",
    "\n",
    "    def start(self):\n",
    "        self.engine.start()\n",
    "        print(\"Car started\")\n",
    "\n",
    "# Usage\n",
    "car = Car()\n",
    "car.start()"
   ]
  },
  {
   "cell_type": "markdown",
   "metadata": {},
   "source": [
    "### 4. What are bound methods and how do we use them?\n",
    "\n",
    "In Python, a bound method is a method that is associated with an instance of a class. When you access a method through an instance, it becomes a bound method, meaning it's bound to that particular instance. Bound methods automatically receive the instance as the first argument (usually named `self`), allowing them to access and operate on the instance's attributes.\n",
    "\n",
    "Here's an example to illustrate bound methods:"
   ]
  },
  {
   "cell_type": "code",
   "execution_count": 11,
   "metadata": {},
   "outputs": [
    {
     "name": "stdout",
     "output_type": "stream",
     "text": [
      "Value: 10\n"
     ]
    }
   ],
   "source": [
    "class MyClass:\n",
    "    def __init__(self, value):\n",
    "        self.value = value\n",
    "\n",
    "    def display(self):\n",
    "        print(\"Value:\", self.value)\n",
    "\n",
    "# Create an instance of MyClass\n",
    "obj = MyClass(10)\n",
    "\n",
    "# Access the display method through the instance\n",
    "bound_method = obj.display\n",
    "\n",
    "# Call the bound method\n",
    "bound_method()  # Output: Value: 10"
   ]
  },
  {
   "cell_type": "markdown",
   "metadata": {},
   "source": [
    "### 5. What is the purpose of pseudoprivate attributes?\n",
    "\n",
    "\n",
    "Pseudoprivate attributes in Python are a convention used to simulate private attributes within a class. Unlike true private attributes, which are inaccessible from outside the class definition, pseudoprivate attributes can still be accessed and modified, but they are prefixed with double underscores (`__`) to indicate that they are intended for internal use within the class.\n",
    "\n",
    "The purpose of pseudoprivate attributes is primarily to avoid name clashes between attributes of a class and attributes of its subclasses or attributes of other classes when using inheritance. By prefixing attributes with double underscores, Python's name mangling mechanism comes into play, which modifies the attribute name to include the class name, preventing accidental overriding or accessing of attributes by subclasses or other classes.\n",
    "\n",
    "Here's an example to illustrate the use of pseudoprivate attributes:"
   ]
  },
  {
   "cell_type": "code",
   "execution_count": 12,
   "metadata": {},
   "outputs": [
    {
     "name": "stdout",
     "output_type": "stream",
     "text": [
      "An error occured: 'MyClass' object has no attribute '__attribute'\n",
      "10\n"
     ]
    }
   ],
   "source": [
    "class MyClass:\n",
    "    def __init__(self):\n",
    "        self.__attribute = 10  # Pseudoprivate attribute\n",
    "\n",
    "    def get_attribute(self):\n",
    "        return self.__attribute\n",
    "\n",
    "# Create an instance of MyClass\n",
    "obj = MyClass()\n",
    "\n",
    "# Accessing the pseudoprivate attribute directly (not recommended)\n",
    "try: \n",
    "    print(obj.__attribute)  # This will raise an AttributeError\n",
    "except Exception as e:\n",
    "    print(\"An error occured:\", e)\n",
    "\n",
    "\n",
    "# Accessing the pseudoprivate attribute using a getter method\n",
    "print(obj.get_attribute())  # Output: 10"
   ]
  },
  {
   "cell_type": "markdown",
   "metadata": {},
   "source": [
    "In this example, `__attribute` is a pseudoprivate attribute of the `MyClass` class. Although it can still be accessed directly from outside the class using name mangling (`obj._MyClass__attribute`), it is discouraged to do so. Instead, accessing the attribute through methods like `get_attribute()` is recommended for encapsulation and to prevent accidental modification or misuse.\n",
    "\n",
    "The purpose of using pseudoprivate attributes is to provide a degree of encapsulation and prevent accidental name clashes, but they are not a substitute for true encapsulation provided by access control mechanisms in other programming languages. It's important to remember that in Python, \"we are all consenting adults,\" meaning that developers are trusted to use attributes responsibly, even those prefixed with double underscores."
   ]
  }
 ],
 "metadata": {
  "kernelspec": {
   "display_name": "Python 3",
   "language": "python",
   "name": "python3"
  },
  "language_info": {
   "codemirror_mode": {
    "name": "ipython",
    "version": 3
   },
   "file_extension": ".py",
   "mimetype": "text/x-python",
   "name": "python",
   "nbconvert_exporter": "python",
   "pygments_lexer": "ipython3",
   "version": "3.10.9"
  }
 },
 "nbformat": 4,
 "nbformat_minor": 2
}
