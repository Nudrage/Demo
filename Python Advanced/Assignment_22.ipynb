{
 "cells": [
  {
   "cell_type": "markdown",
   "metadata": {},
   "source": [
    "### 1. What are the benefits of the built-in array package, if any?\n",
    "\n",
    "\n",
    "The built-in `array` package in Python provides a way to create arrays that are more memory-efficient than regular lists, especially when dealing with large amounts of numeric data. Here are some benefits of using the `array` package:\n",
    "\n",
    "1. **Memory Efficiency**: Arrays created using the `array` package consume less memory compared to regular Python lists, especially for numeric data types like integers and floats. This is because arrays store homogeneous data types and do not require additional type information for each element, unlike lists.\n",
    "\n",
    "2. **Typed Data**: The `array` package allows you to specify the data type of elements in the array, ensuring that all elements are of the same type. This can be useful for applications where strict data typing is required, such as numerical computations and interfacing with low-level libraries or hardware.\n",
    "\n",
    "3. **Interoperability**: Arrays created with the `array` package can be easily converted to and from other data structures like lists, NumPy arrays, and memory-mapped files, allowing for seamless interoperability with existing Python libraries and data processing tools."
   ]
  },
  {
   "cell_type": "markdown",
   "metadata": {},
   "source": [
    "### 2. What are some of the array package&#39;s limitations?\n",
    "\n",
    "\n",
    "While the `array` package offers benefits such as memory efficiency and performance, it also has some limitations compared to more advanced data structures like NumPy arrays. Some of the limitations of the `array` package include:\n",
    "\n",
    "1. **Homogeneous Data Types Only**: Arrays created with the `array` package can only store elements of a single data type. This means that all elements in the array must have the same data type, which can be limiting for applications that require heterogeneous data storage.\n",
    "\n",
    "2. **Limited Functionality**: The `array` package provides only basic functionality for creating and manipulating arrays. It lacks many of the advanced features and functions available in libraries like NumPy, such as broadcasting, element-wise operations, slicing, and advanced indexing.\n",
    "\n",
    "3. **No Vectorization**: The `array` package does not support vectorized operations or broadcasting, which are essential for efficiently performing element-wise operations on large arrays. This can result in slower performance compared to libraries like NumPy, especially for numerical computations involving large datasets."
   ]
  },
  {
   "cell_type": "markdown",
   "metadata": {},
   "source": [
    "### 3. Describe the main differences between the array and numpy packages.\n",
    "\n",
    "\n",
    "The `array` package and the `numpy` package in Python are both used for handling arrays, but they have significant differences in terms of functionality, performance, and flexibility. Here are the main differences between the two:\n",
    "\n",
    "1. **Functionality**:\n",
    "   - `array`: The `array` package provides a basic way to create arrays that are more memory-efficient than regular Python lists. It offers limited functionality for array manipulation and lacks many advanced features available in libraries like NumPy.\n",
    "   - `numpy`: NumPy is a powerful library for numerical computing in Python. It provides a wide range of functions and tools for creating, manipulating, and performing operations on arrays. NumPy offers advanced features such as broadcasting, element-wise operations, slicing, reshaping, linear algebra operations, Fourier transforms, and more.\n",
    "\n",
    "2. **Data Types**:\n",
    "   - `array`: Arrays created with the `array` package can only store elements of a single data type. They support a limited set of data types, including integers, floats, and characters.\n",
    "   - `numpy`: NumPy arrays support a wide range of data types, including integers, floats, complex numbers, strings, and custom data types. NumPy arrays can also be structured arrays, which allow for more complex data structures with multiple fields.\n",
    "\n",
    "3. **Flexibility**:\n",
    "   - `array`: Arrays created with the `array` package have a fixed size that is specified when the array is created. They cannot change their size dynamically, and they lack many of the advanced features available in NumPy.\n",
    "   - `numpy`: NumPy arrays are more flexible and dynamic. They can resize themselves dynamically, and they support advanced features such as broadcasting, slicing, reshaping, and advanced indexing."
   ]
  },
  {
   "cell_type": "markdown",
   "metadata": {},
   "source": [
    "### 4. Explain the distinctions between the empty, ones, and zeros functions.\n",
    "\n",
    "\n",
    "In NumPy, the `empty`, `ones`, and `zeros` functions are used to create arrays with specified shapes and data types, filled with uninitialized values, ones, and zeros, respectively. Here are the distinctions between these functions:\n",
    "\n",
    "1. **`numpy.empty(shape, dtype=float, order='C')`**:\n",
    "   - This function creates a new array of the specified shape without initializing its values. \n",
    "   - Example: `np.empty((2, 3), dtype=int)` creates a 2x3 array of integers without initializing its values.\n",
    "\n",
    "2. **`numpy.ones(shape, dtype=None, order='C')`**:\n",
    "   - This function creates a new array of the specified shape and fills it with ones.\n",
    "   - Example: `np.ones((2, 3), dtype=int)` creates a 2x3 array filled with integer ones.\n",
    "\n",
    "3. **`numpy.zeros(shape, dtype=float, order='C')`**:\n",
    "   - This function creates a new array of the specified shape and fills it with zeros.\n",
    "   - Example: `np.zeros((2, 3), dtype=int)` creates a 2x3 array filled with integer zeros."
   ]
  },
  {
   "cell_type": "markdown",
   "metadata": {},
   "source": [
    "### 5. In the fromfunction function, which is used to construct new arrays, what is the role of the callable argument?\n",
    "\n",
    "\n",
    "In the `numpy.fromfunction` function, the `callable` argument specifies a callable object (such as a function or a lambda function) that defines the values of the array elements based on their coordinates. The callable object receives as input the indices of the array elements along each axis. It computes and returns the value of each array element based on its indices. The `fromfunction` function then constructs the array using the values returned by the callable object.\n",
    "\n",
    "Here's a simple example to illustrate how the `callable` argument works:"
   ]
  },
  {
   "cell_type": "code",
   "execution_count": 1,
   "metadata": {},
   "outputs": [
    {
     "name": "stdout",
     "output_type": "stream",
     "text": [
      "[[0. 1. 2.]\n",
      " [1. 2. 3.]\n",
      " [2. 3. 4.]]\n"
     ]
    }
   ],
   "source": [
    "import numpy as np\n",
    "\n",
    "# Define a callable object to compute array values\n",
    "def compute_value(x, y):\n",
    "    return x + y\n",
    "\n",
    "# Create a 3x3 array using fromfunction\n",
    "arr = np.fromfunction(compute_value, (3, 3))\n",
    "\n",
    "print(arr)"
   ]
  },
  {
   "cell_type": "markdown",
   "metadata": {},
   "source": [
    "### Q6. What happens when a numpy array is combined with a single-value operand (a scalar, such as an int or a floating-point value) through addition, as in the expression A + n?\n",
    "\n",
    "\n",
    "When a NumPy array is combined with a single-value operand (a scalar, such as an integer or a floating-point value) through addition, the scalar value is broadcasted to match the shape of the array, and then element-wise addition is performed between the array and the scalar value.\n",
    "\n",
    "Here's an example to illustrate this:"
   ]
  },
  {
   "cell_type": "code",
   "execution_count": 2,
   "metadata": {},
   "outputs": [
    {
     "name": "stdout",
     "output_type": "stream",
     "text": [
      "[[11 12 13]\n",
      " [14 15 16]]\n"
     ]
    }
   ],
   "source": [
    "import numpy as np\n",
    "\n",
    "# Create a NumPy array\n",
    "A = np.array([[1, 2, 3],\n",
    "              [4, 5, 6]])\n",
    "\n",
    "# Add a scalar value to the array\n",
    "result = A + 10\n",
    "\n",
    "print(result)"
   ]
  },
  {
   "cell_type": "markdown",
   "metadata": {},
   "source": [
    "### 7. Can array-to-scalar operations use combined operation-assign operators (such as += or *=)? What is the outcome?\n",
    "\n",
    "\n",
    "Yes, array-to-scalar operations can use combined operation-assign operators such as `+=` or `*=`. When such operators are used, the operation is applied element-wise between the array and the scalar operand, and the result is assigned back to the original array.\n",
    "\n",
    "Here's an example to illustrate these operations:"
   ]
  },
  {
   "cell_type": "code",
   "execution_count": 3,
   "metadata": {},
   "outputs": [
    {
     "name": "stdout",
     "output_type": "stream",
     "text": [
      "After addition:\n",
      "[[11 12 13]\n",
      " [14 15 16]]\n",
      "After multiplication:\n",
      "[[22 24 26]\n",
      " [28 30 32]]\n"
     ]
    }
   ],
   "source": [
    "import numpy as np\n",
    "\n",
    "# Create a NumPy array\n",
    "arr = np.array([[1, 2, 3],\n",
    "                [4, 5, 6]])\n",
    "\n",
    "# Use += operator\n",
    "arr += 10  # Equivalent to arr = arr + 10\n",
    "print(\"After addition:\")\n",
    "print(arr)\n",
    "\n",
    "# Use *= operator\n",
    "arr *= 2   # Equivalent to arr = arr * 2\n",
    "print(\"After multiplication:\")\n",
    "print(arr)"
   ]
  },
  {
   "cell_type": "markdown",
   "metadata": {},
   "source": [
    "### 8. Does a numpy array contain fixed-length strings? What happens if you allocate a longer string to one of these arrays?\n",
    "\n",
    "In NumPy, arrays can indeed contain fixed-length strings, known as fixed-size string arrays. These arrays are created using the `numpy.array` function with the `dtype` parameter set to a string data type with a specified length. For example, you can create a fixed-size string array with strings of length 5 using `dtype='S5'`.\n",
    "\n",
    "If you allocate a longer string to one of these fixed-size string arrays, NumPy will truncate the string to fit the specified length. Here's an example to demonstrate this behavior:"
   ]
  },
  {
   "cell_type": "code",
   "execution_count": 4,
   "metadata": {},
   "outputs": [
    {
     "name": "stdout",
     "output_type": "stream",
     "text": [
      "Original array:\n",
      "[b'hello' b'world']\n",
      "\n",
      "Modified array:\n",
      "[b'hello' b'goodb']\n"
     ]
    }
   ],
   "source": [
    "import numpy as np\n",
    "\n",
    "# Create a fixed-size string array of length 5\n",
    "arr = np.array(['hello', 'world'], dtype='S5')\n",
    "\n",
    "# Print the original array\n",
    "print(\"Original array:\")\n",
    "print(arr)\n",
    "\n",
    "# Allocate a longer string to one of the elements\n",
    "arr[1] = 'goodbye'\n",
    "\n",
    "# Print the modified array\n",
    "print(\"\\nModified array:\")\n",
    "print(arr)"
   ]
  },
  {
   "cell_type": "markdown",
   "metadata": {},
   "source": [
    "### 9. What happens when you combine two numpy arrays using an operation like addition (+) or multiplication (*)? What are the conditions for combining two numpy arrays?\n",
    "\n",
    "\n",
    "When you combine two NumPy arrays using operations like addition (+) or multiplication (*), the operation is applied element-wise between the corresponding elements of the arrays. This means that each element of one array is combined with the corresponding element of the other array according to the specified operation.\n",
    "\n",
    "The conditions for combining two NumPy arrays are as follows:\n",
    "\n",
    "1. **Compatible Shapes**: The arrays must have compatible shapes for element-wise operations. This generally means that the arrays must have the same shape or be compatible for broadcasting.\n",
    "\n",
    "2. **Compatible Data Types**: The arrays should have compatible data types for the specified operation. For example, addition and multiplication operations require the arrays to have numeric data types (integers, floats, etc.).\n",
    "\n",
    "Here's an example to illustrate combining two NumPy arrays with addition and multiplication:"
   ]
  },
  {
   "cell_type": "code",
   "execution_count": 5,
   "metadata": {},
   "outputs": [
    {
     "name": "stdout",
     "output_type": "stream",
     "text": [
      "Addition Result:\n",
      "[5 7 9]\n",
      "\n",
      "Multiplication Result:\n",
      "[ 4 10 18]\n"
     ]
    }
   ],
   "source": [
    "import numpy as np\n",
    "\n",
    "# Create two NumPy arrays\n",
    "arr1 = np.array([1, 2, 3])\n",
    "arr2 = np.array([4, 5, 6])\n",
    "\n",
    "# Addition\n",
    "result_addition = arr1 + arr2\n",
    "print(\"Addition Result:\")\n",
    "print(result_addition)\n",
    "\n",
    "# Multiplication\n",
    "result_multiplication = arr1 * arr2\n",
    "print(\"\\nMultiplication Result:\")\n",
    "print(result_multiplication)"
   ]
  },
  {
   "cell_type": "markdown",
   "metadata": {},
   "source": [
    "### 10. What is the best way to use a Boolean array to mask another array?\n",
    "\n",
    "\n",
    "The best way to use a Boolean array to mask another array in NumPy is by using the Boolean array as an index for the array you want to mask. This process is commonly referred to as Boolean indexing or Boolean masking. Here's how it works:\n",
    "\n",
    "1. Create a Boolean array with the same shape as the array you want to mask. Each element of the Boolean array indicates whether the corresponding element of the target array should be included in the mask (True) or not (False).\n",
    "\n",
    "2. Use the Boolean array as an index for the target array. NumPy automatically selects the elements of the target array where the corresponding element of the Boolean array is True and excludes the elements where it is False.\n",
    "\n",
    "Here's an example to illustrate this process:"
   ]
  },
  {
   "cell_type": "code",
   "execution_count": 6,
   "metadata": {},
   "outputs": [
    {
     "name": "stdout",
     "output_type": "stream",
     "text": [
      "Original array: [1 2 3 4 5]\n",
      "Boolean mask: [ True False  True False  True]\n",
      "Masked array: [1 3 5]\n"
     ]
    }
   ],
   "source": [
    "import numpy as np\n",
    "\n",
    "# Create an array to mask\n",
    "arr = np.array([1, 2, 3, 4, 5])\n",
    "\n",
    "# Create a Boolean array to serve as the mask\n",
    "mask = np.array([True, False, True, False, True])\n",
    "\n",
    "# Use the Boolean array as an index to mask the original array\n",
    "masked_arr = arr[mask]\n",
    "\n",
    "print(\"Original array:\", arr)\n",
    "print(\"Boolean mask:\", mask)\n",
    "print(\"Masked array:\", masked_arr)"
   ]
  },
  {
   "cell_type": "markdown",
   "metadata": {},
   "source": [
    "### 11. What are three different ways to get the standard deviation of a wide collection of data using both standard Python and its packages? Sort the three of them by how quickly they execute.\n",
    "\n",
    "\n",
    "To get the standard deviation of a wide collection of data, you can use various methods available in standard Python and its packages. Here are three different ways to calculate the standard deviation, sorted by their execution speed:\n",
    "\n",
    "1. **NumPy's `numpy.std()` Function**: NumPy is a high-performance library for numerical computing in Python, and its `numpy.std()` function is optimized for calculating the standard deviation efficiently.\n",
    "   - Example:\n",
    "     ```python\n",
    "     import numpy as np\n",
    "\n",
    "     data = [1, 2, 3, 4, 5]\n",
    "     std_dev = np.std(data)\n",
    "     ```\n",
    "\n",
    "2. **Using Statistics Module in Python**: The `statistics` module in Python provides a `stdev()` function to calculate the standard deviation of a dataset.\n",
    "   - Example:\n",
    "     ```python\n",
    "     import statistics\n",
    "\n",
    "     data = [1, 2, 3, 4, 5]\n",
    "     std_dev = statistics.stdev(data)\n",
    "     ```"
   ]
  },
  {
   "cell_type": "markdown",
   "metadata": {},
   "source": [
    "### 12. What is the dimensionality of a Boolean mask-generated array?\n",
    "\n",
    "\n",
    "The dimensionality of a Boolean mask-generated array depends on the shape of the original array and the shape of the Boolean mask used for masking. In general, the dimensionality of the resulting array is equal to the number of dimensions in the original array. When you use a Boolean mask to filter elements from an array, the resulting array retains the same number of dimensions as the original array, but its size along each dimension may change based on the number of elements selected by the mask."
   ]
  }
 ],
 "metadata": {
  "kernelspec": {
   "display_name": "Python 3",
   "language": "python",
   "name": "python3"
  },
  "language_info": {
   "codemirror_mode": {
    "name": "ipython",
    "version": 3
   },
   "file_extension": ".py",
   "mimetype": "text/x-python",
   "name": "python",
   "nbconvert_exporter": "python",
   "pygments_lexer": "ipython3",
   "version": "3.10.9"
  }
 },
 "nbformat": 4,
 "nbformat_minor": 2
}
