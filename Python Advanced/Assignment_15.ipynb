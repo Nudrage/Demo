{
 "cells": [
  {
   "cell_type": "markdown",
   "metadata": {},
   "source": [
    "### 1. What are the new features added in Python 3.8 version?\n",
    "\n",
    "Python 3.8 introduced several new features, optimizations, and improvements over the previous versions. Some of the key features added in Python 3.8 include:\n",
    "\n",
    "1. **Assignment Expressions (the Walrus Operator)**: Introduced the `:=` operator, known as the walrus operator, which allows assignment expressions within other expressions. This feature enables variable assignment within expressions, reducing the need for multiple lines of code in certain scenarios.\n",
    "\n",
    "2. **Positional-only Parameters**: Ability to specify function parameters as positional-only by using the `/` separator in function definitions. This allows developers to enforce positional-only arguments for certain parameters, enhancing function parameter control and flexibility.\n",
    "\n",
    "3. **f-strings Support for `=`**: Introduced support for the `=` specifier in f-strings, allowing Python developers to include the Python expression and its result within formatted strings.\n",
    "\n",
    "4. **`importlib.metadata` Module**: Introduced the `importlib.metadata` module to provide a stable API for accessing metadata about installed packages.\n",
    "\n",
    "1. **TypedDict Support for `total=False`**: Added support for `total=False` in TypedDict, allowing developers to create TypedDicts with unspecified keys."
   ]
  },
  {
   "cell_type": "markdown",
   "metadata": {},
   "source": [
    "### 2. What is monkey patching in Python?\n",
    "\n",
    "Monkey patching in Python refers to the practice of dynamically modifying or extending code at runtime, typically by altering or adding new attributes, methods, or functions to existing classes or modules. This technique allows developers to change the behavior of code without directly modifying the original source code. The term \"monkey patching\" comes from the concept of a \"monkey\" altering the behavior of a program while it's running, akin to a mischievous monkey meddling with things.\n",
    "\n",
    "Monkey patching can be useful in certain situations, such as:\n",
    "\n",
    "1. **Fixing Bugs:** When you need to fix a bug in a third-party library or module for which you don't have direct access to the source code, you can patch the code at runtime to work around the issue.\n",
    "\n",
    "2. **Adding Functionality:** You can extend the functionality of existing classes or modules by adding new methods or attributes dynamically, without modifying the original code.\n",
    "\n",
    "3. **Testing:** Monkey patching is often used in testing to replace real objects or functions with mock objects or functions for testing purposes.\n",
    "\n",
    "Here's a simple example of monkey patching in Python:"
   ]
  },
  {
   "cell_type": "code",
   "execution_count": 1,
   "metadata": {},
   "outputs": [
    {
     "name": "stdout",
     "output_type": "stream",
     "text": [
      "Bonjour\n"
     ]
    }
   ],
   "source": [
    "# Original class\n",
    "class MyClass:\n",
    "    def greet(self):\n",
    "        return \"Hello\"\n",
    "\n",
    "# Monkey patching: Adding a new method to the class dynamically\n",
    "def new_greet(self):\n",
    "    return \"Bonjour\"\n",
    "\n",
    "MyClass.greet = new_greet\n",
    "\n",
    "obj = MyClass()\n",
    "print(obj.greet())  # Output: \"Bonjour\""
   ]
  },
  {
   "cell_type": "markdown",
   "metadata": {},
   "source": [
    "In this example, we added a new method `new_greet()` to the `MyClass` class dynamically, replacing the original `greet()` method. As a result, when we create an object of `MyClass` and call the `greet()` method, it executes the new method we added (`new_greet()`) instead of the original method."
   ]
  },
  {
   "cell_type": "markdown",
   "metadata": {},
   "source": [
    "### 3. What is the difference between a shallow copy and deep copy?\n",
    "\n",
    "In Python, both shallow copy and deep copy are techniques used to create copies of objects, but they differ in how they handle nested objects within the original object being copied.\n",
    "\n",
    "1. **Shallow Copy**: A shallow copy creates a new object but does not recursively copy the nested objects within it. Only the top-level structure of the original object is duplicated, and references to nested objects are copied, not the objects themselves. Changes made to nested objects in the copied structure will affect both the original and copied objects since they share the same references to the nested objects. Shallow copies are created using the `copy()` method or the `copy` module's `copy()` function.\n",
    "\n",
    "2. **Deep Copy**: A deep copy creates a new object and recursively copies all nested objects within it, creating independent copies of all objects. Both the top-level structure and all nested objects within the original object are duplicated, resulting in a completely independent copy. Changes made to nested objects in the copied structure will not affect the original object, as they are separate copies with their own memory locations. Deep copies are created using the `copy` module's `deepcopy()` function.\n",
    "\n",
    "Here's a simple example to illustrate the difference:"
   ]
  },
  {
   "cell_type": "code",
   "execution_count": 2,
   "metadata": {},
   "outputs": [
    {
     "name": "stdout",
     "output_type": "stream",
     "text": [
      "[[10, 2, 3], [4, 5, 6]]\n",
      "[[10, 2, 3], [4, 5, 6]]\n",
      "[[1, 20, 3], [4, 5, 6]]\n"
     ]
    }
   ],
   "source": [
    "import copy\n",
    "\n",
    "\n",
    "original_list = [[1, 2, 3], [4, 5, 6]]      # Original list with nested list\n",
    "shallow_copy = copy.copy(original_list)     # Shallow copy\n",
    "deep_copy = copy.deepcopy(original_list)    # Deep copy\n",
    "\n",
    "shallow_copy[0][0] = 10                     # Modify nested list in shallow copy\n",
    "deep_copy[0][1] = 20                        # Modify nested list in deep copy\n",
    "\n",
    "print(original_list)  # Output: [[10, 2, 3], [4, 5, 6]]\n",
    "print(shallow_copy)   # Output: [[10, 2, 3], [4, 5, 6]]\n",
    "print(deep_copy)      # Output: [[1, 20, 3], [4, 5, 6]]"
   ]
  },
  {
   "cell_type": "markdown",
   "metadata": {},
   "source": [
    "### 4. What is the maximum possible length of an identifier?\n",
    "\n",
    "\n",
    "According to the Python Language Reference, the maximum length of an identifier is limited by the maximum size of a Unicode character (sys.maxunicode). In Python 3.x, Unicode characters are represented using the UTF-8 encoding, and the maximum value for a Unicode character is 0x10FFFF."
   ]
  },
  {
   "cell_type": "markdown",
   "metadata": {},
   "source": [
    "### 5. What is generator comprehension?\n",
    "\n",
    "A generator comprehension, also known as a generator expression, is a concise way to create a generator object in Python. It is similar to list comprehensions but instead of creating a list, it generates values lazily, one at a time, as they are needed.\n",
    "\n",
    "The syntax for a generator comprehension is similar to that of list comprehensions, but it uses parentheses `()` instead of square brackets `[]`. Additionally, it produces a generator object rather than a list.\n",
    "\n",
    "Here's the general syntax of a generator comprehension:\n",
    "\n",
    "```python\n",
    "(generator_expression for item in iterable if condition)\n",
    "```\n",
    "\n",
    "Generator comprehensions are useful when you want to generate a sequence of values without creating a list in memory, especially when dealing with large datasets or infinite sequences.\n",
    "\n",
    "Here's an example of a generator comprehension:"
   ]
  },
  {
   "cell_type": "code",
   "execution_count": 3,
   "metadata": {},
   "outputs": [
    {
     "name": "stdout",
     "output_type": "stream",
     "text": [
      "0\n",
      "1\n",
      "4\n",
      "9\n",
      "16\n",
      "25\n",
      "36\n",
      "49\n",
      "64\n",
      "81\n"
     ]
    }
   ],
   "source": [
    "# Create a generator that yields squares of numbers from 0 to 9\n",
    "generator = (x**2 for x in range(10))\n",
    "\n",
    "# Iterate over the generator and print each value\n",
    "for value in generator:\n",
    "    print(value)"
   ]
  },
  {
   "cell_type": "markdown",
   "metadata": {},
   "source": [
    "In this example, `(x**2 for x in range(10))` is a generator comprehension that generates squares of numbers from 0 to 9. When iterated over, it lazily produces each square value without storing them all in memory at once."
   ]
  }
 ],
 "metadata": {
  "kernelspec": {
   "display_name": "Python 3",
   "language": "python",
   "name": "python3"
  },
  "language_info": {
   "codemirror_mode": {
    "name": "ipython",
    "version": 3
   },
   "file_extension": ".py",
   "mimetype": "text/x-python",
   "name": "python",
   "nbconvert_exporter": "python",
   "pygments_lexer": "ipython3",
   "version": "3.10.9"
  }
 },
 "nbformat": 4,
 "nbformat_minor": 2
}
