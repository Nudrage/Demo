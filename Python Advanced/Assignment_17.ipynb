{
 "cells": [
  {
   "cell_type": "markdown",
   "metadata": {},
   "source": [
    "### 1. Explain the difference between greedy and non-greedy syntax with visual terms in as few words as possible. What is the bare minimum effort required to transform a greedy pattern into a non-greedy one? What characters or characters can you introduce or change?\n",
    "\n",
    "\n",
    "**Difference in Visual Terms**:\n",
    "- Greedy: Grabs as much as possible.\n",
    "- Non-Greedy: Grabs as little as possible.\n",
    "\n",
    "**Transformation from Greedy to Non-Greedy**:\n",
    "- Add a question mark `?` after the quantifier.\n",
    "- Example: `*?`, `+?`, `??`, `{n,m}?`\n",
    "\n",
    "**Explanation**:\n",
    "- Greedy quantifiers match as much text as possible while still allowing the overall match to succeed.\n",
    "- Non-greedy quantifiers match as little text as possible, trying to find the smallest match that satisfies the pattern."
   ]
  },
  {
   "cell_type": "markdown",
   "metadata": {},
   "source": [
    "### 2. When exactly does greedy versus non-greedy make a difference?  What if you're looking for a non-greedy match but the only one available is greedy?\n",
    "\n",
    "\n",
    "Greedy versus non-greedy behavior makes a difference when using quantifiers (such as `*`, `+`, `?`, `{}`) in regular expressions. \n",
    "\n",
    "**1. Difference in Behavior**:\n",
    "- **Greedy**: Matches as much text as possible while still allowing the overall match to succeed.\n",
    "- **Non-Greedy**: Matches as little text as possible, trying to find the smallest match that satisfies the pattern.\n",
    "\n",
    "**2. Circumstances where it Matters**:\n",
    "- **Ambiguous Matches**: When there are multiple possible matches, the greedy and non-greedy approaches may lead to different results.\n",
    "- **Efficiency**: In certain cases, non-greedy matching can be more efficient, especially with large text inputs.\n",
    "\n",
    "**3. Dealing with Unavailable Non-Greedy Matches**:\n",
    "- If you require a non-greedy match but only a greedy one is available, you can try to narrow down the pattern or use additional constraints to achieve the desired result.\n",
    "- However, in some cases, it may not be possible to directly convert a greedy match into a non-greedy one without altering the logic or structure of the regular expression pattern."
   ]
  },
  {
   "cell_type": "markdown",
   "metadata": {},
   "source": [
    "### 3. In a simple match of a string, which looks only for one match and does not do any replacement, is the use of a nontagged group likely to make any practical difference?\n",
    "\n",
    "\n",
    "In a simple match of a string where only one match is sought and no replacement is performed, the use of a non-tagged group (also known as a non-capturing group) may not make a practical difference in terms of the outcome of the match itself. Non-tagged groups are primarily used for grouping subpatterns without capturing the matched text.\n",
    "\n",
    "However, there are some practical considerations to keep in mind:\n",
    "\n",
    "1. **Capture vs. Non-Capture**:\n",
    "   - If you're not interested in capturing the matched text for later use or extraction, using a non-capturing group can improve performance slightly, as it reduces the overhead associated with capturing and storing matched text.\n",
    "\n",
    "2. **Clarity and Readability**:\n",
    "   - Non-capturing groups can enhance the readability and maintainability of your regular expressions, especially when dealing with complex patterns. They make it clear that the group is used for grouping purposes only and not for capturing text.\n",
    "\n",
    "Overall, while using a non-capturing group may not have a significant practical impact in a simple matching scenario, it can contribute to code clarity, performance optimization, and compatibility in more complex regex patterns or when working on larger projects."
   ]
  },
  {
   "cell_type": "markdown",
   "metadata": {},
   "source": [
    "### 4. Describe a scenario in which using a nontagged category would have a significant impact on the program's outcomes.\n",
    "\n",
    "\n",
    "One scenario where using a non-capturing group (also known as a non-tagged category) can have a significant impact on the program's outcomes is when constructing regular expressions for tokenization or parsing tasks in natural language processing (NLP) or data extraction applications.\n",
    "\n",
    "Consider the following scenario:\n",
    "\n",
    "**Scenario: Data Extraction from HTML Tags**\n",
    "\n",
    "Suppose you have a task to extract data from HTML tags, but you want to ignore certain parts of the tags, such as attributes or nested elements, and only focus on the content within specific tags.\n",
    "\n",
    "```html\n",
    "<div class=\"article\">\n",
    "    <h1>Title</h1>\n",
    "    <p>Paragraph 1</p>\n",
    "    <p>Paragraph 2</p>\n",
    "</div>\n",
    "```\n",
    "\n",
    "You want to extract the content within the `<p>` tags while ignoring any attributes or nested elements within those tags. Here's where a non-capturing group becomes valuable:\n",
    "\n",
    "```python\n",
    "import re\n",
    "\n",
    "html = \"\"\"\n",
    "<div class=\"article\">\n",
    "    <h1>Title</h1>\n",
    "    <p>Paragraph 1</p>\n",
    "    <p>Paragraph 2</p>\n",
    "</div>\n",
    "\"\"\"\n",
    "\n",
    "# Using a capturing group (with tags and content)\n",
    "matches_with_capturing_group = re.findall(r'<p>(.*?)</p>', html)\n",
    "print(\"Matches with capturing group:\")\n",
    "for match in matches_with_capturing_group:\n",
    "    print(match)\n",
    "\n",
    "# Using a non-capturing group (ignoring tags)\n",
    "matches_with_non_capturing_group = re.findall(r'<p>(?:.*?)</p>', html)\n",
    "print(\"\\nMatches with non-capturing group:\")\n",
    "for match in matches_with_non_capturing_group:\n",
    "    print(match)\n",
    "```\n",
    "\n",
    "**Outcome:**\n",
    "\n",
    "- Using a capturing group would include the tags `<p>` and `</p>` in the match results, along with the content within them.\n",
    "- Using a non-capturing group would exclude the tags from the match results, providing only the content within the `<p>` tags.\n",
    "\n",
    "In this scenario, using a non-capturing group ensures that the extracted data contains only the content of interest without the additional markup, which can significantly impact downstream processing tasks such as data analysis or text summarization."
   ]
  },
  {
   "cell_type": "markdown",
   "metadata": {},
   "source": [
    "### 5. Unlike a normal regex pattern, a look-ahead condition does not consume the characters it examines. Describe a situation in which this could make a difference in the results of your programme.\n",
    "\n",
    "\n",
    "\n",
    "Look-ahead assertions in regular expressions are indeed powerful tools that allow you to check for patterns in your text without actually consuming characters. This non-consumption feature can be crucial in various scenarios where you need to match patterns that are followed by certain conditions without including those conditions in the match itself. \n",
    "\n",
    "Here's a practical example to illustrate this:\n",
    "\n",
    "Let's say you have a text document containing a list of email addresses, and you want to extract only the domain names (the part after the '@' symbol) but exclude any domain names ending with \".gov\". \n",
    "\n",
    "Using a regular expression with look-ahead assertions, you can achieve this without consuming the characters in the match:\n",
    "\n",
    "```regex\n",
    "(?<=@)[^.]+(?!\\.gov)\n",
    "```\n",
    "\n",
    "Explanation:\n",
    "\n",
    "- `(?<=@)`: This is a positive look-behind assertion that checks if the match is preceded by the '@' symbol. It doesn't consume the '@' symbol itself.\n",
    "- `[^.]+`: This part matches one or more characters that are not periods (i.e., it matches the domain name).\n",
    "- `(?!\\.gov)`: This is a negative look-ahead assertion that ensures the matched domain name is not followed by \".gov\". It doesn't consume the characters matching \".gov\"."
   ]
  },
  {
   "cell_type": "markdown",
   "metadata": {},
   "source": [
    "### 6. In standard expressions, what is the difference between positive look-ahead and negative look-ahead?\n",
    "\n",
    "\n",
    "In regular expressions, both positive look-ahead and negative look-ahead are types of assertions used to assert whether a particular pattern exists or does not exist ahead in the text without actually consuming characters. The main difference between them lies in their conditions for matching:\n",
    "\n",
    "1. **Positive Look-ahead**:\n",
    "   - Syntax: `(?=pattern)`\n",
    "   - Description: Asserts that the pattern specified after the current position in the string matches. It does not consume any characters from the string.\n",
    "   - Effect: Matches if the pattern ahead exists.\n",
    "   - Example: \n",
    "     - `foo(?=bar)` matches \"foo\" only if it is followed by \"bar\", but \"bar\" is not part of the match.\n",
    "\n",
    "2. **Negative Look-ahead**:\n",
    "   - Syntax: `(?!pattern)`\n",
    "   - Description: Asserts that the pattern specified after the current position in the string does not match. It does not consume any characters from the string.\n",
    "   - Effect: Matches if the pattern ahead does not exist.\n",
    "   - Example:\n",
    "     - `foo(?!bar)` matches \"foo\" only if it is not followed by \"bar\". If \"foo\" is followed by \"bar\", the match fails."
   ]
  },
  {
   "cell_type": "markdown",
   "metadata": {},
   "source": [
    "### 7. What is the benefit of referring to groups by name rather than by number in a standard expression?\n",
    "\n",
    "\n",
    "Referring to groups by name rather than by number in a standard regular expression offers several benefits:\n",
    "\n",
    "1. **Readability**: Using named groups makes the regular expression more readable and understandable, especially for complex patterns. Names provide descriptive labels for each group, making it easier for other developers (or your future self) to understand the intent of the pattern.\n",
    "\n",
    "2. **Maintainability**: Named groups improve the maintainability of regular expressions. If you need to modify the pattern later on, you can refer to groups by their names rather than relying on their numerical indices. This makes it less error-prone, as you don't have to recompute group indices if the pattern changes.\n",
    "\n",
    "3. **Clarity in code integration**: When using regular expressions in code that involves capturing groups, referring to groups by name provides clarity when integrating with other parts of your codebase. You can easily access captured groups by their names, enhancing code readability and reducing the likelihood of errors."
   ]
  },
  {
   "cell_type": "markdown",
   "metadata": {},
   "source": [
    "### 8. Can you identify repeated items within a target string using named groups, as in &quot;The cow jumped over the moon&quot;?\n",
    "\n",
    "\n",
    "Yes, you can use named groups in regular expressions to identify repeated items within a target string. However, in the example you provided (\"The cow jumped over the moon\"), there are no immediately apparent repeated items. Let's assume you want to identify repeated words within the string.\n",
    "\n",
    "Here's how you could do it in Python using named groups:"
   ]
  },
  {
   "cell_type": "code",
   "execution_count": 3,
   "metadata": {},
   "outputs": [
    {
     "name": "stdout",
     "output_type": "stream",
     "text": [
      "Repeated words found:\n",
      "cow\n",
      "moon\n"
     ]
    }
   ],
   "source": [
    "import re\n",
    "\n",
    "# Sample string\n",
    "target_string = \"The cow cow jumped over the over moon moon\"\n",
    "\n",
    "# Regular expression pattern to match repeated words\n",
    "pattern = r'\\b(?P<word>\\w+)\\b\\s+(?P=word)'\n",
    "\n",
    "# Find all matches\n",
    "matches = re.findall(pattern, target_string)\n",
    "\n",
    "# Display the matches\n",
    "print(\"Repeated words found:\")\n",
    "for match in matches:\n",
    "    print(match)"
   ]
  },
  {
   "cell_type": "markdown",
   "metadata": {},
   "source": [
    "In the provided example, the pattern will match any word that is immediately followed by the same word, indicating repetition. In this case, \"moon\" is repeated in the target string"
   ]
  },
  {
   "cell_type": "markdown",
   "metadata": {},
   "source": [
    "### 9. When parsing a string, what is at least one thing that the Scanner interface does for you that the re.findall feature does not?\n",
    "\n",
    "\n",
    "The Scanner interface and the `re.findall()` function serve different purposes in parsing strings, and they offer different functionalities. One thing that the Scanner interface does for you that the `re.findall()` feature does not is handling input streams. The Scanner interface, allows you to parse input streams into tokens. It's commonly used for parsing input from various sources, such as files or user input.\n",
    "\n",
    "The Scanner interface tokenizes input streams, breaking them down into individual tokens based on delimiters or patterns specified by the programmer. On the other hand, the `re.findall()` function in Python is specifically designed for pattern matching and extraction in strings using regular expressions. While it's powerful for finding all non-overlapping matches of a pattern in a string, it doesn't handle input streams or provide tokenization capabilities like the Scanner interface does."
   ]
  },
  {
   "cell_type": "markdown",
   "metadata": {},
   "source": [
    "### 10. Does a scanner object have to be named scanner?\n",
    "\n",
    "\n",
    "No, a Scanner object does not have to be named \"scanner.\" In programming, where the Scanner class is commonly used for parsing input, you can choose any valid variable name according to the naming conventions of the language. You can choose any valid variable name that adheres to the rules of the programming language you're using. However, it's good practice to choose a descriptive and meaningful name that reflects the purpose of the Scanner object in your code to enhance readability and maintainability."
   ]
  }
 ],
 "metadata": {
  "kernelspec": {
   "display_name": "Python 3",
   "language": "python",
   "name": "python3"
  },
  "language_info": {
   "codemirror_mode": {
    "name": "ipython",
    "version": 3
   },
   "file_extension": ".py",
   "mimetype": "text/x-python",
   "name": "python",
   "nbconvert_exporter": "python",
   "pygments_lexer": "ipython3",
   "version": "3.10.9"
  }
 },
 "nbformat": 4,
 "nbformat_minor": 2
}
