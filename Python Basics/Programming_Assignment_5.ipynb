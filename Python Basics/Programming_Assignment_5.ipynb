{
 "cells": [
  {
   "cell_type": "markdown",
   "metadata": {},
   "source": [
    "### 1. Write a Python Program to Find LCM?"
   ]
  },
  {
   "cell_type": "code",
   "execution_count": 5,
   "metadata": {},
   "outputs": [
    {
     "name": "stdout",
     "output_type": "stream",
     "text": [
      "LCM of 15 and 35 is 105\n"
     ]
    }
   ],
   "source": [
    "def find_lcm(x, y):\n",
    "    # LCM is the product of two numbers divided by their GCD\n",
    "    gcd = find_gcd(x, y)\n",
    "    lcm = (x * y) // gcd\n",
    "    return lcm\n",
    "\n",
    "def find_gcd(x, y):\n",
    "    while(y):\n",
    "        x, y = y, x % y\n",
    "    return x\n",
    "\n",
    "# Example usage:\n",
    "num1 = 15\n",
    "num2 = 35\n",
    "print(\"LCM of\", num1, \"and\", num2, \"is\", find_lcm(num1, num2))"
   ]
  },
  {
   "cell_type": "markdown",
   "metadata": {},
   "source": [
    "### 2. Write a Python Program to Find HCF?"
   ]
  },
  {
   "cell_type": "code",
   "execution_count": 6,
   "metadata": {},
   "outputs": [
    {
     "name": "stdout",
     "output_type": "stream",
     "text": [
      "HCF of 15 and 35 is 5\n"
     ]
    }
   ],
   "source": [
    "def find_hcf(x, y):\n",
    "    while(y):\n",
    "        x, y = y, x % y\n",
    "    return x\n",
    "\n",
    "# Example usage:\n",
    "num1 = 15\n",
    "num2 = 35\n",
    "print(\"HCF of\", num1, \"and\", num2, \"is\", find_hcf(num1, num2))"
   ]
  },
  {
   "cell_type": "markdown",
   "metadata": {},
   "source": [
    "### 3. Write a Python Program to Convert Decimal to Binary, Octal and Hexadecimal?"
   ]
  },
  {
   "cell_type": "code",
   "execution_count": 7,
   "metadata": {},
   "outputs": [
    {
     "name": "stdout",
     "output_type": "stream",
     "text": [
      "Binary: 0b1111101000\n",
      "Octal: 0o1750\n",
      "Hexadecimal: 0x3e8\n"
     ]
    }
   ],
   "source": [
    "def decimal_to_binary(decimal):\n",
    "    return bin(decimal)\n",
    "\n",
    "def decimal_to_octal(decimal):\n",
    "    return oct(decimal)\n",
    "\n",
    "def decimal_to_hexadecimal(decimal):\n",
    "    return hex(decimal)\n",
    "\n",
    "# Example usage:\n",
    "number = 1000\n",
    "print(\"Binary:\", decimal_to_binary(number))\n",
    "print(\"Octal:\", decimal_to_octal(number))\n",
    "print(\"Hexadecimal:\", decimal_to_hexadecimal(number))"
   ]
  },
  {
   "cell_type": "markdown",
   "metadata": {},
   "source": [
    "### 4. Write a Python Program To Find ASCII value of a character?"
   ]
  },
  {
   "cell_type": "code",
   "execution_count": 8,
   "metadata": {},
   "outputs": [
    {
     "name": "stdout",
     "output_type": "stream",
     "text": [
      "ASCII value of R is 82\n"
     ]
    }
   ],
   "source": [
    "def ascii_value(character):\n",
    "    return ord(character)\n",
    "\n",
    "# Example usage:\n",
    "char = 'R'\n",
    "print(\"ASCII value of\", char, \"is\", ascii_value(char))"
   ]
  },
  {
   "cell_type": "markdown",
   "metadata": {},
   "source": [
    "### 5. Write a Python Program to Make a Simple Calculator with 4 basic mathematical operations?"
   ]
  },
  {
   "cell_type": "code",
   "execution_count": 9,
   "metadata": {},
   "outputs": [
    {
     "name": "stdout",
     "output_type": "stream",
     "text": [
      "Result: 0.5074626865671642\n"
     ]
    }
   ],
   "source": [
    "def add(x, y):\n",
    "    return x + y\n",
    "\n",
    "def subtract(x, y):\n",
    "    return x - y\n",
    "\n",
    "def multiply(x, y):\n",
    "    return x * y\n",
    "\n",
    "def divide(x, y):\n",
    "    if y == 0:\n",
    "        return \"Cannot divide by zero\"\n",
    "    return x / y\n",
    "\n",
    "# Example usage:\n",
    "num1 = 102\n",
    "# operator = input(\"Enter operator (+, -, *, /): \")\n",
    "operator = '/'\n",
    "num2 = 201\n",
    "\n",
    "if operator == '+':\n",
    "    print(\"Result:\", add(num1, num2))\n",
    "elif operator == '-':\n",
    "    print(\"Result:\", subtract(num1, num2))\n",
    "elif operator == '*':\n",
    "    print(\"Result:\", multiply(num1, num2))\n",
    "elif operator == '/':\n",
    "    print(\"Result:\", divide(num1, num2))\n",
    "else:\n",
    "    print(\"Invalid operator\")"
   ]
  }
 ],
 "metadata": {
  "kernelspec": {
   "display_name": "Python 3",
   "language": "python",
   "name": "python3"
  },
  "language_info": {
   "codemirror_mode": {
    "name": "ipython",
    "version": 3
   },
   "file_extension": ".py",
   "mimetype": "text/x-python",
   "name": "python",
   "nbconvert_exporter": "python",
   "pygments_lexer": "ipython3",
   "version": "3.10.9"
  }
 },
 "nbformat": 4,
 "nbformat_minor": 2
}
