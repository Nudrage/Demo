{
 "cells": [
  {
   "cell_type": "markdown",
   "metadata": {},
   "source": [
    "### 1. Write a Python program to find words which are greater than given length k?"
   ]
  },
  {
   "cell_type": "code",
   "execution_count": 15,
   "metadata": {},
   "outputs": [
    {
     "name": "stdout",
     "output_type": "stream",
     "text": [
      "Words greater than length 5 are: ['sample', 'sentence', 'demonstrate', 'program']\n"
     ]
    }
   ],
   "source": [
    "def find_long_words(sentence, k):\n",
    "    words = sentence.split()\n",
    "    long_words = [word for word in words if len(word) > k]\n",
    "    return long_words\n",
    "\n",
    "# Example usage:\n",
    "sentence = \"This is a sample sentence to demonstrate the program\"  # Demo input\n",
    "k = 5  # Demo input\n",
    "print(\"Words greater than length\", k, \"are:\", find_long_words(sentence, k))"
   ]
  },
  {
   "cell_type": "markdown",
   "metadata": {},
   "source": [
    "### 2. Write a Python program for removing i-th character from a string?"
   ]
  },
  {
   "cell_type": "code",
   "execution_count": 16,
   "metadata": {},
   "outputs": [
    {
     "name": "stdout",
     "output_type": "stream",
     "text": [
      "String after removing 2 th character: helo\n"
     ]
    }
   ],
   "source": [
    "def remove_ith_character(string, i):\n",
    "    return string[:i] + string[i+1:]\n",
    "\n",
    "# Example usage:\n",
    "string = \"hello\"  # Demo input\n",
    "i = 2  # Demo input\n",
    "print(\"String after removing\", i, \"th character:\", remove_ith_character(string, i))"
   ]
  },
  {
   "cell_type": "markdown",
   "metadata": {},
   "source": [
    "### 3. Write a Python program to split and join a string?"
   ]
  },
  {
   "cell_type": "code",
   "execution_count": 17,
   "metadata": {},
   "outputs": [
    {
     "name": "stdout",
     "output_type": "stream",
     "text": [
      "String after split and join: This-is-a-sample-string\n"
     ]
    }
   ],
   "source": [
    "def split_and_join(string):\n",
    "    words = string.split()\n",
    "    new_string = '-'.join(words)\n",
    "    return new_string\n",
    "\n",
    "# Example usage:\n",
    "string = \"This is a sample string\"  # Demo input\n",
    "print(\"String after split and join:\", split_and_join(string))"
   ]
  },
  {
   "cell_type": "markdown",
   "metadata": {},
   "source": [
    "### 4. Write a Python to check if a given string is binary string or not?"
   ]
  },
  {
   "cell_type": "code",
   "execution_count": 18,
   "metadata": {},
   "outputs": [
    {
     "name": "stdout",
     "output_type": "stream",
     "text": [
      "1010101010 is a binary string\n"
     ]
    }
   ],
   "source": [
    "def is_binary_string(string):\n",
    "    return all(char in '01' for char in string)\n",
    "\n",
    "# Example usage:\n",
    "string = \"1010101010\"  # Demo input\n",
    "if is_binary_string(string):\n",
    "    print(string, \"is a binary string\")\n",
    "else:\n",
    "    print(string, \"is not a binary string\")"
   ]
  },
  {
   "cell_type": "markdown",
   "metadata": {},
   "source": [
    "### 5. Write a Python program to find uncommon words from two Strings?"
   ]
  },
  {
   "cell_type": "code",
   "execution_count": 19,
   "metadata": {},
   "outputs": [
    {
     "name": "stdout",
     "output_type": "stream",
     "text": [
      "Uncommon words between the two strings are: ['is', 'amazing', 'python', 'hello']\n"
     ]
    }
   ],
   "source": [
    "def find_uncommon_words(string1, string2):\n",
    "    set1 = set(string1.split())\n",
    "    set2 = set(string2.split())\n",
    "    uncommon_words = set1.symmetric_difference(set2)\n",
    "    return list(uncommon_words)\n",
    "\n",
    "# Example usage:\n",
    "string1 = \"hello world python\"  # Demo input\n",
    "string2 = \"world is amazing\"  # Demo input\n",
    "print(\"Uncommon words between the two strings are:\", find_uncommon_words(string1, string2))"
   ]
  },
  {
   "cell_type": "markdown",
   "metadata": {},
   "source": [
    "### 6. Write a Python to find all duplicate characters in string?"
   ]
  },
  {
   "cell_type": "code",
   "execution_count": 20,
   "metadata": {},
   "outputs": [
    {
     "name": "stdout",
     "output_type": "stream",
     "text": [
      "Duplicate characters in the string: ['l', 'o']\n"
     ]
    }
   ],
   "source": [
    "def find_duplicate_characters(string):\n",
    "    duplicates = []\n",
    "    for char in string:\n",
    "        if string.count(char) > 1 and char not in duplicates:\n",
    "            duplicates.append(char)\n",
    "    return duplicates\n",
    "\n",
    "# Example usage:\n",
    "string = \"hello world\"  # Demo input\n",
    "print(\"Duplicate characters in the string:\", find_duplicate_characters(string))"
   ]
  },
  {
   "cell_type": "markdown",
   "metadata": {},
   "source": [
    "### 7. Write a Python Program to check if a string contains any special character?"
   ]
  },
  {
   "cell_type": "code",
   "execution_count": 21,
   "metadata": {},
   "outputs": [
    {
     "name": "stdout",
     "output_type": "stream",
     "text": [
      "The string contains special characters.\n"
     ]
    }
   ],
   "source": [
    "import string\n",
    "\n",
    "def contains_special_character(input_string):\n",
    "    special_chars = set(string.punctuation)\n",
    "    \n",
    "    for char in input_string:\n",
    "        if char in special_chars:\n",
    "            return True\n",
    "    return False\n",
    "\n",
    "# Demo input\n",
    "demo_input = \"Hello! How are you?\"\n",
    "if contains_special_character(demo_input):\n",
    "    print(\"The string contains special characters.\")\n",
    "else:\n",
    "    print(\"The string does not contain any special characters.\")"
   ]
  }
 ],
 "metadata": {
  "kernelspec": {
   "display_name": "Python 3",
   "language": "python",
   "name": "python3"
  },
  "language_info": {
   "codemirror_mode": {
    "name": "ipython",
    "version": 3
   },
   "file_extension": ".py",
   "mimetype": "text/x-python",
   "name": "python",
   "nbconvert_exporter": "python",
   "pygments_lexer": "ipython3",
   "version": "3.10.9"
  }
 },
 "nbformat": 4,
 "nbformat_minor": 2
}
