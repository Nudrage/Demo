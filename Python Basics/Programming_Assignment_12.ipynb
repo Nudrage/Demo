{
 "cells": [
  {
   "cell_type": "markdown",
   "metadata": {},
   "source": [
    "### 1. Write a Python program to Extract Unique values dictionary values?"
   ]
  },
  {
   "cell_type": "code",
   "execution_count": 1,
   "metadata": {},
   "outputs": [
    {
     "name": "stdout",
     "output_type": "stream",
     "text": [
      "Unique values: [1, 2, 3, 4, 5]\n"
     ]
    }
   ],
   "source": [
    "def extract_unique_values(dictionary):\n",
    "    unique_values = set()\n",
    "    for values in dictionary.values():\n",
    "        if isinstance(values, list):\n",
    "            unique_values.update(values)\n",
    "        else:\n",
    "            unique_values.add(values)\n",
    "    return list(unique_values)\n",
    "\n",
    "# Example usage:\n",
    "sample_dict = {'a': [1, 2, 3], 'b': [2, 3, 4], 'c': [3, 4, 5]}\n",
    "unique_values = extract_unique_values(sample_dict)\n",
    "print(\"Unique values:\", unique_values)"
   ]
  },
  {
   "cell_type": "markdown",
   "metadata": {},
   "source": [
    "### 2. Write a Python program to find the sum of all items in a dictionary?"
   ]
  },
  {
   "cell_type": "code",
   "execution_count": 2,
   "metadata": {},
   "outputs": [
    {
     "name": "stdout",
     "output_type": "stream",
     "text": [
      "Sum of dictionary items: 60\n"
     ]
    }
   ],
   "source": [
    "def sum_dictionary_items(dictionary):\n",
    "    return sum(dictionary.values())\n",
    "\n",
    "# Example usage:\n",
    "sample_dict = {'a': 10, 'b': 20, 'c': 30}\n",
    "total_sum = sum_dictionary_items(sample_dict)\n",
    "print(\"Sum of dictionary items:\", total_sum)"
   ]
  },
  {
   "cell_type": "markdown",
   "metadata": {},
   "source": [
    "### 3. Write a Python program to Merging two Dictionaries?"
   ]
  },
  {
   "cell_type": "code",
   "execution_count": 3,
   "metadata": {},
   "outputs": [
    {
     "name": "stdout",
     "output_type": "stream",
     "text": [
      "Merged dictionary: {'a': 10, 'b': 20, 'c': 30, 'd': 40}\n"
     ]
    }
   ],
   "source": [
    "def merge_dictionaries(dict1, dict2):\n",
    "    merged_dict = {**dict1, **dict2}\n",
    "    return merged_dict\n",
    "\n",
    "# Example usage:\n",
    "dict1 = {'a': 10, 'b': 20}\n",
    "dict2 = {'c': 30, 'd': 40}\n",
    "merged_dict = merge_dictionaries(dict1, dict2)\n",
    "print(\"Merged dictionary:\", merged_dict)"
   ]
  },
  {
   "cell_type": "markdown",
   "metadata": {},
   "source": [
    "### 4. Write a Python program to convert key-values list to flat dictionary?"
   ]
  },
  {
   "cell_type": "code",
   "execution_count": 4,
   "metadata": {},
   "outputs": [
    {
     "name": "stdout",
     "output_type": "stream",
     "text": [
      "Flat dictionary: {'a': 1, 'b': 2, 'c': 3}\n"
     ]
    }
   ],
   "source": [
    "def convert_to_flat_dictionary(keys, values):\n",
    "    return dict(zip(keys, values))\n",
    "\n",
    "# Example usage:\n",
    "keys = ['a', 'b', 'c']\n",
    "values = [1, 2, 3]\n",
    "flat_dict = convert_to_flat_dictionary(keys, values)\n",
    "print(\"Flat dictionary:\", flat_dict)"
   ]
  },
  {
   "cell_type": "markdown",
   "metadata": {},
   "source": [
    "### 5. Write a Python program to insertion at the beginning in OrderedDict?"
   ]
  },
  {
   "cell_type": "code",
   "execution_count": 5,
   "metadata": {},
   "outputs": [
    {
     "ename": "KeyError",
     "evalue": "'c'",
     "output_type": "error",
     "traceback": [
      "\u001b[1;31m---------------------------------------------------------------------------\u001b[0m",
      "\u001b[1;31mKeyError\u001b[0m                                  Traceback (most recent call last)",
      "Cell \u001b[1;32mIn[5], line 9\u001b[0m\n\u001b[0;32m      7\u001b[0m \u001b[38;5;66;03m# Example usage:\u001b[39;00m\n\u001b[0;32m      8\u001b[0m ordered_dict \u001b[38;5;241m=\u001b[39m OrderedDict([(\u001b[38;5;124m'\u001b[39m\u001b[38;5;124ma\u001b[39m\u001b[38;5;124m'\u001b[39m, \u001b[38;5;241m1\u001b[39m), (\u001b[38;5;124m'\u001b[39m\u001b[38;5;124mb\u001b[39m\u001b[38;5;124m'\u001b[39m, \u001b[38;5;241m2\u001b[39m)])\n\u001b[1;32m----> 9\u001b[0m \u001b[43minsert_at_beginning\u001b[49m\u001b[43m(\u001b[49m\u001b[43mordered_dict\u001b[49m\u001b[43m,\u001b[49m\u001b[43m \u001b[49m\u001b[38;5;124;43m'\u001b[39;49m\u001b[38;5;124;43mc\u001b[39;49m\u001b[38;5;124;43m'\u001b[39;49m\u001b[43m,\u001b[49m\u001b[43m \u001b[49m\u001b[38;5;241;43m3\u001b[39;49m\u001b[43m)\u001b[49m\n\u001b[0;32m     10\u001b[0m \u001b[38;5;28mprint\u001b[39m(\u001b[38;5;124m\"\u001b[39m\u001b[38;5;124mOrderedDict after insertion:\u001b[39m\u001b[38;5;124m\"\u001b[39m, ordered_dict)\n",
      "Cell \u001b[1;32mIn[5], line 4\u001b[0m, in \u001b[0;36minsert_at_beginning\u001b[1;34m(ordered_dict, key, value)\u001b[0m\n\u001b[0;32m      3\u001b[0m \u001b[38;5;28;01mdef\u001b[39;00m \u001b[38;5;21minsert_at_beginning\u001b[39m(ordered_dict, key, value):\n\u001b[1;32m----> 4\u001b[0m     \u001b[43mordered_dict\u001b[49m\u001b[38;5;241;43m.\u001b[39;49m\u001b[43mmove_to_end\u001b[49m\u001b[43m(\u001b[49m\u001b[43mkey\u001b[49m\u001b[43m,\u001b[49m\u001b[43m \u001b[49m\u001b[43mlast\u001b[49m\u001b[38;5;241;43m=\u001b[39;49m\u001b[38;5;28;43;01mFalse\u001b[39;49;00m\u001b[43m)\u001b[49m\n\u001b[0;32m      5\u001b[0m     ordered_dict[key] \u001b[38;5;241m=\u001b[39m value\n",
      "\u001b[1;31mKeyError\u001b[0m: 'c'"
     ]
    }
   ],
   "source": [
    "from collections import OrderedDict\n",
    "\n",
    "def insert_at_beginning(ordered_dict, key, value):\n",
    "    ordered_dict.move_to_end(key, last=False)\n",
    "    ordered_dict[key] = value\n",
    "\n",
    "# Example usage:\n",
    "ordered_dict = OrderedDict([('a', 1), ('b', 2)])\n",
    "insert_at_beginning(ordered_dict, 'c', 3)\n",
    "print(\"OrderedDict after insertion:\", ordered_dict)"
   ]
  },
  {
   "cell_type": "markdown",
   "metadata": {},
   "source": [
    "### 6. Write a Python program to check order of character in string using OrderedDict()?"
   ]
  },
  {
   "cell_type": "code",
   "execution_count": 6,
   "metadata": {},
   "outputs": [
    {
     "name": "stdout",
     "output_type": "stream",
     "text": [
      "The order of characters in the pattern is maintained in the string.\n"
     ]
    }
   ],
   "source": [
    "from collections import OrderedDict\n",
    "\n",
    "def check_order_of_characters(input_str, pattern):\n",
    "    od = OrderedDict.fromkeys(input_str)\n",
    "    pattern_length = len(pattern)\n",
    "    index = 0\n",
    "    for key in od:\n",
    "        if key == pattern[index]:\n",
    "            index += 1\n",
    "        if index == pattern_length:\n",
    "            return True\n",
    "    return False\n",
    "\n",
    "# Example usage:\n",
    "input_str = 'engineers rock'\n",
    "pattern = 'egr'\n",
    "if check_order_of_characters(input_str, pattern):\n",
    "    print(\"The order of characters in the pattern is maintained in the string.\")\n",
    "else:\n",
    "    print(\"The order of characters in the pattern is not maintained in the string.\")"
   ]
  },
  {
   "cell_type": "markdown",
   "metadata": {},
   "source": [
    "### 7. Write a Python program to sort Python Dictionaries by Key or Value?"
   ]
  },
  {
   "cell_type": "code",
   "execution_count": 7,
   "metadata": {},
   "outputs": [
    {
     "name": "stdout",
     "output_type": "stream",
     "text": [
      "Sorted by key: {'a': 5, 'b': 15, 'c': 10}\n",
      "Sorted by value: {'a': 5, 'c': 10, 'b': 15}\n"
     ]
    }
   ],
   "source": [
    "def sort_dictionary_by_key(dictionary):\n",
    "    return dict(sorted(dictionary.items()))\n",
    "\n",
    "def sort_dictionary_by_value(dictionary):\n",
    "    return dict(sorted(dictionary.items(), key=lambda item: item[1]))\n",
    "\n",
    "# Example usage:\n",
    "sample_dict = {'c': 10, 'a': 5, 'b': 15}\n",
    "sorted_by_key = sort_dictionary_by_key(sample_dict)\n",
    "sorted_by_value = sort_dictionary_by_value(sample_dict)\n",
    "\n",
    "print(\"Sorted by key:\", sorted_by_key)\n",
    "print(\"Sorted by value:\", sorted_by_value)"
   ]
  }
 ],
 "metadata": {
  "kernelspec": {
   "display_name": "Python 3",
   "language": "python",
   "name": "python3"
  },
  "language_info": {
   "codemirror_mode": {
    "name": "ipython",
    "version": 3
   },
   "file_extension": ".py",
   "mimetype": "text/x-python",
   "name": "python",
   "nbconvert_exporter": "python",
   "pygments_lexer": "ipython3",
   "version": "3.10.9"
  }
 },
 "nbformat": 4,
 "nbformat_minor": 2
}
