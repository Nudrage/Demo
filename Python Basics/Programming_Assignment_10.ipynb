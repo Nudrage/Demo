{
 "cells": [
  {
   "cell_type": "markdown",
   "metadata": {},
   "source": [
    "### 1. Write a Python program to find sum of elements in list?"
   ]
  },
  {
   "cell_type": "code",
   "execution_count": 1,
   "metadata": {},
   "outputs": [
    {
     "name": "stdout",
     "output_type": "stream",
     "text": [
      "Sum of elements in the list: 15\n"
     ]
    }
   ],
   "source": [
    "def sum_of_elements(lst):\n",
    "    return sum(lst)\n",
    "\n",
    "# Example usage:\n",
    "my_list = [1, 2, 3, 4, 5]  # Demo input\n",
    "print(\"Sum of elements in the list:\", sum_of_elements(my_list))"
   ]
  },
  {
   "cell_type": "markdown",
   "metadata": {},
   "source": [
    "### 2. Write a Python program to Multiply all numbers in the list?"
   ]
  },
  {
   "cell_type": "code",
   "execution_count": 2,
   "metadata": {},
   "outputs": [
    {
     "name": "stdout",
     "output_type": "stream",
     "text": [
      "Multiplication of all numbers in the list: 120\n"
     ]
    }
   ],
   "source": [
    "def multiply_all(lst):\n",
    "    result = 1\n",
    "    for num in lst:\n",
    "        result *= num\n",
    "    return result\n",
    "\n",
    "# Example usage:\n",
    "my_list = [1, 2, 3, 4, 5]  # Demo input\n",
    "print(\"Multiplication of all numbers in the list:\", multiply_all(my_list))"
   ]
  },
  {
   "cell_type": "markdown",
   "metadata": {},
   "source": [
    "### 3. Write a Python program to find smallest number in a list?"
   ]
  },
  {
   "cell_type": "code",
   "execution_count": 3,
   "metadata": {},
   "outputs": [
    {
     "name": "stdout",
     "output_type": "stream",
     "text": [
      "Smallest number in the list: 3\n"
     ]
    }
   ],
   "source": [
    "def find_smallest(lst):\n",
    "    return min(lst)\n",
    "\n",
    "# Example usage:\n",
    "my_list = [10, 5, 8, 3, 12]  # Demo input\n",
    "print(\"Smallest number in the list:\", find_smallest(my_list))"
   ]
  },
  {
   "cell_type": "markdown",
   "metadata": {},
   "source": [
    "### 4. Write a Python program to find largest number in a list?"
   ]
  },
  {
   "cell_type": "code",
   "execution_count": 4,
   "metadata": {},
   "outputs": [
    {
     "name": "stdout",
     "output_type": "stream",
     "text": [
      "Largest number in the list: 12\n"
     ]
    }
   ],
   "source": [
    "def find_largest(lst):\n",
    "    return max(lst)\n",
    "\n",
    "# Example usage:\n",
    "my_list = [10, 5, 8, 3, 12]  # Demo input\n",
    "print(\"Largest number in the list:\", find_largest(my_list))"
   ]
  },
  {
   "cell_type": "markdown",
   "metadata": {},
   "source": [
    "### 5. Write a Python program to find second largest number in a list?"
   ]
  },
  {
   "cell_type": "code",
   "execution_count": 5,
   "metadata": {},
   "outputs": [
    {
     "name": "stdout",
     "output_type": "stream",
     "text": [
      "Second largest number in the list: 10\n"
     ]
    }
   ],
   "source": [
    "def find_second_largest(lst):\n",
    "    sorted_list = sorted(lst)\n",
    "    return sorted_list[-2]\n",
    "\n",
    "# Example usage:\n",
    "my_list = [10, 5, 8, 3, 12]  # Demo input\n",
    "print(\"Second largest number in the list:\", find_second_largest(my_list))"
   ]
  },
  {
   "cell_type": "markdown",
   "metadata": {},
   "source": [
    "### 6. Write a Python program to find N largest elements from a list?"
   ]
  },
  {
   "cell_type": "code",
   "execution_count": 6,
   "metadata": {},
   "outputs": [
    {
     "name": "stdout",
     "output_type": "stream",
     "text": [
      "N largest elements in the list: [12, 10, 8]\n"
     ]
    }
   ],
   "source": [
    "def find_n_largest(lst, n):\n",
    "    sorted_list = sorted(lst, reverse=True)\n",
    "    return sorted_list[:n]\n",
    "\n",
    "# Example usage:\n",
    "my_list = [10, 5, 8, 3, 12]  # Demo input\n",
    "n = 3  # Demo input\n",
    "print(\"N largest elements in the list:\", find_n_largest(my_list, n))"
   ]
  },
  {
   "cell_type": "markdown",
   "metadata": {},
   "source": [
    "### 7. Write a Python program to print even numbers in a list?"
   ]
  },
  {
   "cell_type": "code",
   "execution_count": 7,
   "metadata": {},
   "outputs": [
    {
     "name": "stdout",
     "output_type": "stream",
     "text": [
      "Even numbers in the list: [2, 4, 6, 8, 10]\n"
     ]
    }
   ],
   "source": [
    "def print_even_numbers(lst):\n",
    "    even_numbers = [num for num in lst if num % 2 == 0]\n",
    "    return even_numbers\n",
    "\n",
    "# Example usage:\n",
    "my_list = [1, 2, 3, 4, 5, 6, 7, 8, 9, 10]  # Demo input\n",
    "print(\"Even numbers in the list:\", print_even_numbers(my_list))"
   ]
  },
  {
   "cell_type": "markdown",
   "metadata": {},
   "source": [
    "### 8. Write a Python program to print odd numbers in a List?"
   ]
  },
  {
   "cell_type": "code",
   "execution_count": 8,
   "metadata": {},
   "outputs": [
    {
     "name": "stdout",
     "output_type": "stream",
     "text": [
      "Odd numbers in the list: [1, 3, 5, 7, 9]\n"
     ]
    }
   ],
   "source": [
    "def print_odd_numbers(lst):\n",
    "    odd_numbers = [num for num in lst if num % 2 != 0]\n",
    "    return odd_numbers\n",
    "\n",
    "# Example usage:\n",
    "my_list = [1, 2, 3, 4, 5, 6, 7, 8, 9, 10]  # Demo input\n",
    "print(\"Odd numbers in the list:\", print_odd_numbers(my_list))"
   ]
  },
  {
   "cell_type": "markdown",
   "metadata": {},
   "source": [
    "### 9. Write a Python program to Remove empty List from List?"
   ]
  },
  {
   "cell_type": "code",
   "execution_count": 9,
   "metadata": {},
   "outputs": [
    {
     "name": "stdout",
     "output_type": "stream",
     "text": [
      "List after removing empty lists: [[1, 2], [3, 4, 5], [6, 7, 8, 9]]\n"
     ]
    }
   ],
   "source": [
    "def remove_empty_lists(lst):\n",
    "    return [sublist for sublist in lst if sublist]\n",
    "\n",
    "# Example usage:\n",
    "my_list = [[], [1, 2], [], [3, 4, 5], [], [6, 7, 8, 9]]  # Demo input\n",
    "print(\"List after removing empty lists:\", remove_empty_lists(my_list))"
   ]
  },
  {
   "cell_type": "markdown",
   "metadata": {},
   "source": [
    "### 10. Write a Python program to Cloning or Copying a list?"
   ]
  },
  {
   "cell_type": "code",
   "execution_count": 10,
   "metadata": {},
   "outputs": [
    {
     "name": "stdout",
     "output_type": "stream",
     "text": [
      "Cloned list: [1, 2, 3, 4, 5]\n"
     ]
    }
   ],
   "source": [
    "def clone_list(lst):\n",
    "    return lst.copy()\n",
    "\n",
    "# Example usage:\n",
    "my_list = [1, 2, 3, 4, 5]  # Demo input\n",
    "cloned_list = clone_list(my_list)\n",
    "print(\"Cloned list:\", cloned_list)"
   ]
  },
  {
   "cell_type": "markdown",
   "metadata": {},
   "source": [
    "### 11. Write a Python program to Count occurrences of an element in a list?"
   ]
  },
  {
   "cell_type": "code",
   "execution_count": 11,
   "metadata": {},
   "outputs": [
    {
     "name": "stdout",
     "output_type": "stream",
     "text": [
      "Occurrences of 1 in the list: 3\n"
     ]
    }
   ],
   "source": [
    "def count_occurrences(lst, element):\n",
    "    return lst.count(element)\n",
    "\n",
    "# Example usage:\n",
    "my_list = [1, 2, 3, 4, 5, 1, 2, 3, 1]  # Demo input\n",
    "element = 1  # Demo input\n",
    "print(\"Occurrences of\", element, \"in the list:\", count_occurrences(my_list, element))"
   ]
  }
 ],
 "metadata": {
  "kernelspec": {
   "display_name": "Python 3",
   "language": "python",
   "name": "python3"
  },
  "language_info": {
   "codemirror_mode": {
    "name": "ipython",
    "version": 3
   },
   "file_extension": ".py",
   "mimetype": "text/x-python",
   "name": "python",
   "nbconvert_exporter": "python",
   "pygments_lexer": "ipython3",
   "version": "3.10.9"
  }
 },
 "nbformat": 4,
 "nbformat_minor": 2
}
