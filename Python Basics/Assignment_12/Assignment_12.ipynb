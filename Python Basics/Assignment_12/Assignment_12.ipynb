{
 "cells": [
  {
   "cell_type": "markdown",
   "metadata": {},
   "source": [
    "# <center> iNeuron Python Basics Assignment-12 </center>"
   ]
  },
  {
   "cell_type": "markdown",
   "metadata": {},
   "source": [
    "![Alt text](image.png)"
   ]
  },
  {
   "cell_type": "markdown",
   "metadata": {},
   "source": [
    "# Q1\n",
    "\n",
    "When working with the PdfFileReader and PdfFileWriter objects in the PyPDF2 library for PDF manipulation:\n",
    "- PdfFileReader: You don't need to open a file in any specific mode. Instead, you provide the PDF file's path when creating a PdfFileReader object, and it internally opens and reads the file. You typically open it in \"rb\" mode, which stands for \"read binary.\"\n",
    "- PdfFileWriter: Similarly, you don't open a file explicitly. You create a PdfFileWriter object and then use its write() method to save the PDF to a file. You specify the file path when calling write(). You usually open the output file in \"wb\" mode, which stands for \"write binary.\""
   ]
  },
  {
   "cell_type": "markdown",
   "metadata": {},
   "source": [
    "# Q2\n",
    "\n",
    "To get a Page object for page 5 from a PdfFileReader object named pdf_reader, you can use the getPage() method:"
   ]
  },
  {
   "cell_type": "code",
   "execution_count": null,
   "metadata": {},
   "outputs": [],
   "source": [
    "import PyPDF2\n",
    "\n",
    "with open('example.pdf', 'rb') as pdf_file:\n",
    "    pdf_reader = PyPDF2.PdfFileReader(pdf_file)\n",
    "\n",
    "page_5 = pdf_reader.getPage(4)  # Page numbering is 0-based, so page 5 is accessed with index 4."
   ]
  },
  {
   "cell_type": "markdown",
   "metadata": {},
   "source": [
    "# Q3\n",
    "\n",
    "The numPages variable of a PdfFileReader object stores the number of pages in the PDF document. You can access it like this:"
   ]
  },
  {
   "cell_type": "code",
   "execution_count": null,
   "metadata": {},
   "outputs": [],
   "source": [
    "num_pages = pdf_reader.numPages"
   ]
  },
  {
   "cell_type": "markdown",
   "metadata": {},
   "source": [
    "# Q4\n",
    "\n",
    "If a PdfFileReader object's PDF is encrypted with the password \"swordfish,\" you must decrypt it using the decrypt() method before you can obtain Page objects from it. Here's how you would typically use it:"
   ]
  },
  {
   "cell_type": "code",
   "execution_count": null,
   "metadata": {},
   "outputs": [],
   "source": [
    "pdf_reader.decrypt(\"swordfish\")"
   ]
  },
  {
   "cell_type": "markdown",
   "metadata": {},
   "source": [
    "# Q5\n",
    "\n",
    "To rotate a page in a PDF, you can use the rotateClockwise() method on a Page object. For example, to rotate a page 90 degrees clockwise:"
   ]
  },
  {
   "cell_type": "code",
   "execution_count": null,
   "metadata": {},
   "outputs": [],
   "source": [
    "page_5.rotateClockwise(90)"
   ]
  },
  {
   "cell_type": "markdown",
   "metadata": {},
   "source": [
    "# Q6\n",
    "\n",
    "In the context of the python-docx library for working with Word documents:\n",
    "- A Run object represents a contiguous run of text with the same character formatting. It can be a single word, a sentence, or any other continuous text with consistent formatting.\n",
    "- A Paragraph object represents a single paragraph of text. It can contain multiple Run objects, each with its own formatting."
   ]
  },
  {
   "cell_type": "markdown",
   "metadata": {},
   "source": [
    "# Q7\n",
    "\n",
    "To obtain a list of Paragraph objects for a Document object stored in a variable named doc, you can use the paragraphs attribute:"
   ]
  },
  {
   "cell_type": "code",
   "execution_count": null,
   "metadata": {},
   "outputs": [],
   "source": [
    "paragraphs = doc.paragraphs"
   ]
  },
  {
   "cell_type": "markdown",
   "metadata": {},
   "source": [
    "# Q8\n",
    "\n",
    "The Run object in the python-docx library has variables like bold, underline, italic, strike, and outline that represent character formatting."
   ]
  },
  {
   "cell_type": "markdown",
   "metadata": {},
   "source": [
    "# Q9\n",
    "\n",
    "- False: When bold is False, the text is not bold.\n",
    "- True: When bold is True, the text is bold.\n",
    "- None: When bold is None, it inherits the formatting from its parent style or the default style."
   ]
  },
  {
   "cell_type": "markdown",
   "metadata": {},
   "source": [
    "# Q10\n",
    "\n",
    "To create a Document object for a new Word document in the python-docx library:"
   ]
  },
  {
   "cell_type": "code",
   "execution_count": null,
   "metadata": {},
   "outputs": [],
   "source": [
    "from docx import Document\n",
    "\n",
    "doc = Document()"
   ]
  },
  {
   "cell_type": "markdown",
   "metadata": {},
   "source": [
    "# Q11\n",
    "\n",
    "To add a paragraph with the text \"Hello, there!\" to a Document object stored in a variable named doc, you can use the add_paragraph() method:"
   ]
  },
  {
   "cell_type": "code",
   "execution_count": null,
   "metadata": {},
   "outputs": [],
   "source": [
    "doc.add_paragraph(\"Hello, there!\")"
   ]
  },
  {
   "cell_type": "markdown",
   "metadata": {},
   "source": [
    "# Q12\n",
    "\n",
    "In Word documents, the levels of headings are represented by integers, typically ranging from 1 to 9, where:\n",
    "- Level 1: Main heading\n",
    "- Level 2: Subheading under Level 1\n",
    "- Level 3: Subheading under Level 2, and so on.\n",
    "These integers correspond to the heading styles available in Word, where higher numbers represent lower-level headings."
   ]
  }
 ],
 "metadata": {
  "kernelspec": {
   "display_name": "base",
   "language": "python",
   "name": "python3"
  },
  "language_info": {
   "codemirror_mode": {
    "name": "ipython",
    "version": 3
   },
   "file_extension": ".py",
   "mimetype": "text/x-python",
   "name": "python",
   "nbconvert_exporter": "python",
   "pygments_lexer": "ipython3",
   "version": "3.10.9"
  },
  "orig_nbformat": 4
 },
 "nbformat": 4,
 "nbformat_minor": 2
}
