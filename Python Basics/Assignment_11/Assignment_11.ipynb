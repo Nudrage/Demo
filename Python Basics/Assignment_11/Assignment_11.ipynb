{
 "cells": [
  {
   "cell_type": "markdown",
   "metadata": {},
   "source": [
    "# <center> iNeuron Python Basics Assignment-11 </center>"
   ]
  },
  {
   "cell_type": "markdown",
   "metadata": {},
   "source": [
    "![Alt text](image.png)"
   ]
  },
  {
   "cell_type": "markdown",
   "metadata": {},
   "source": [
    "# Q1\n",
    "\n",
    "To assert that the variable spam is not a negative integer, you can use the following assert statement:  "
   ]
  },
  {
   "cell_type": "code",
   "execution_count": 10,
   "metadata": {},
   "outputs": [
    {
     "ename": "AssertionError",
     "evalue": "spam cannot be a negative integer",
     "output_type": "error",
     "traceback": [
      "\u001b[1;31m---------------------------------------------------------------------------\u001b[0m",
      "\u001b[1;31mAssertionError\u001b[0m                            Traceback (most recent call last)",
      "\u001b[1;32md:\\iNeuron\\Python Basics\\Assignment_11\\Assignment_11.ipynb Cell 4\u001b[0m line \u001b[0;36m2\n\u001b[0;32m      <a href='vscode-notebook-cell:/d%3A/iNeuron/Python%20Basics/Assignment_11/Assignment_11.ipynb#W5sZmlsZQ%3D%3D?line=0'>1</a>\u001b[0m spam \u001b[39m=\u001b[39m \u001b[39m-\u001b[39m\u001b[39m1\u001b[39m\n\u001b[1;32m----> <a href='vscode-notebook-cell:/d%3A/iNeuron/Python%20Basics/Assignment_11/Assignment_11.ipynb#W5sZmlsZQ%3D%3D?line=1'>2</a>\u001b[0m \u001b[39massert\u001b[39;00m spam \u001b[39m>\u001b[39m\u001b[39m=\u001b[39m \u001b[39m0\u001b[39m, \u001b[39m\"\u001b[39m\u001b[39mspam cannot be a negative integer\u001b[39m\u001b[39m\"\u001b[39m\n",
      "\u001b[1;31mAssertionError\u001b[0m: spam cannot be a negative integer"
     ]
    }
   ],
   "source": [
    "spam = -1\n",
    "assert spam >= 0, \"spam cannot be a negative integer\" \n",
    "#  This will raise an AssertionError if spam is a negative integer."
   ]
  },
  {
   "cell_type": "markdown",
   "metadata": {},
   "source": [
    "# Q2\n",
    "\n",
    "To assert that the variables eggs and bacon contain strings that are the same, regardless of their case, you can use the following assert statement:"
   ]
  },
  {
   "cell_type": "code",
   "execution_count": 11,
   "metadata": {},
   "outputs": [
    {
     "ename": "AssertionError",
     "evalue": "eggs and bacon should not be the same (case-insensitive)",
     "output_type": "error",
     "traceback": [
      "\u001b[1;31m---------------------------------------------------------------------------\u001b[0m",
      "\u001b[1;31mAssertionError\u001b[0m                            Traceback (most recent call last)",
      "\u001b[1;32md:\\iNeuron\\Python Basics\\Assignment_11\\Assignment_11.ipynb Cell 6\u001b[0m line \u001b[0;36m2\n\u001b[0;32m      <a href='vscode-notebook-cell:/d%3A/iNeuron/Python%20Basics/Assignment_11/Assignment_11.ipynb#W6sZmlsZQ%3D%3D?line=0'>1</a>\u001b[0m eggs, bacon \u001b[39m=\u001b[39m \u001b[39m\"\u001b[39m\u001b[39mRushabh\u001b[39m\u001b[39m\"\u001b[39m, \u001b[39m\"\u001b[39m\u001b[39mRushabh\u001b[39m\u001b[39m\"\u001b[39m\n\u001b[1;32m----> <a href='vscode-notebook-cell:/d%3A/iNeuron/Python%20Basics/Assignment_11/Assignment_11.ipynb#W6sZmlsZQ%3D%3D?line=1'>2</a>\u001b[0m \u001b[39massert\u001b[39;00m eggs\u001b[39m.\u001b[39mlower() \u001b[39m!=\u001b[39m bacon\u001b[39m.\u001b[39mlower(), \u001b[39m\"\u001b[39m\u001b[39meggs and bacon should not be the same (case-insensitive)\u001b[39m\u001b[39m\"\u001b[39m\n",
      "\u001b[1;31mAssertionError\u001b[0m: eggs and bacon should not be the same (case-insensitive)"
     ]
    }
   ],
   "source": [
    "eggs, bacon = \"Rushabh\", \"Rushabh\"\n",
    "assert eggs.lower() != bacon.lower(), \"eggs and bacon should not be the same (case-insensitive)\"\n",
    "# This will raise an AssertionError if the strings are the same when compared in a case-insensitive manner."
   ]
  },
  {
   "cell_type": "markdown",
   "metadata": {},
   "source": [
    "# Q3\n",
    "\n",
    "To create an assert statement that always throws an AssertionError, you can simply use:"
   ]
  },
  {
   "cell_type": "code",
   "execution_count": 12,
   "metadata": {},
   "outputs": [
    {
     "ename": "AssertionError",
     "evalue": "This assertion always raises an AssertionError",
     "output_type": "error",
     "traceback": [
      "\u001b[1;31m---------------------------------------------------------------------------\u001b[0m",
      "\u001b[1;31mAssertionError\u001b[0m                            Traceback (most recent call last)",
      "\u001b[1;32md:\\iNeuron\\Python Basics\\Assignment_11\\Assignment_11.ipynb Cell 8\u001b[0m line \u001b[0;36m1\n\u001b[1;32m----> <a href='vscode-notebook-cell:/d%3A/iNeuron/Python%20Basics/Assignment_11/Assignment_11.ipynb#X11sZmlsZQ%3D%3D?line=0'>1</a>\u001b[0m \u001b[39massert\u001b[39;00m \u001b[39mFalse\u001b[39;00m, \u001b[39m\"\u001b[39m\u001b[39mThis assertion always raises an AssertionError\u001b[39m\u001b[39m\"\u001b[39m\n",
      "\u001b[1;31mAssertionError\u001b[0m: This assertion always raises an AssertionError"
     ]
    }
   ],
   "source": [
    "assert False, \"This assertion always raises an AssertionError\""
   ]
  },
  {
   "cell_type": "markdown",
   "metadata": {},
   "source": [
    "# Q4\n",
    "\n",
    "To call logging.debug(), you need to have the following two lines in your software:"
   ]
  },
  {
   "cell_type": "code",
   "execution_count": 13,
   "metadata": {},
   "outputs": [],
   "source": [
    "import logging\n",
    "logging.basicConfig(level=logging.DEBUG)\n",
    "# The first line imports the logging module, \n",
    "# and the second line configures the logging system to output messages at the DEBUG level."
   ]
  },
  {
   "cell_type": "markdown",
   "metadata": {},
   "source": [
    "# Q5\n",
    "\n",
    "To have logging.debug() send a logging message to a file named \"programLog.txt,\" you can use the following code:"
   ]
  },
  {
   "cell_type": "code",
   "execution_count": 14,
   "metadata": {},
   "outputs": [],
   "source": [
    "import logging\n",
    "\n",
    "# Configure the logging system\n",
    "logging.basicConfig(filename='programLog.txt', level=logging.DEBUG)\n",
    "\n",
    "# Now you can use logging.debug() to write messages to the file."
   ]
  },
  {
   "cell_type": "markdown",
   "metadata": {},
   "source": [
    "# Q6\n",
    "\n",
    "The five levels of logging, in increasing order of severity, are:\n",
    "- DEBUG\n",
    "- INFO\n",
    "- WARNING\n",
    "- ERROR\n",
    "- CRITICAL"
   ]
  },
  {
   "cell_type": "markdown",
   "metadata": {},
   "source": [
    "# Q7\n",
    "\n",
    "To disable all logging messages, you can add the following line of code:"
   ]
  },
  {
   "cell_type": "code",
   "execution_count": 15,
   "metadata": {},
   "outputs": [],
   "source": [
    "logging.disable(logging.CRITICAL)\n",
    "# This will disable all logging messages with a severity level of CRITICAL or lower."
   ]
  },
  {
   "cell_type": "markdown",
   "metadata": {},
   "source": [
    "# Q8\n",
    "\n",
    "Using logging messages is better than using print() for several reasons:\n",
    "- Logging allows you to specify different levels of severity, making it easier to filter and control the output.\n",
    "- You can configure logging to output messages to different destinations, such as files or remote servers.\n",
    "- Logging can be easily enabled or disabled globally, making it useful for debugging and production environments.\n",
    "- Logging provides a structured way to log messages, including timestamps and log levels."
   ]
  },
  {
   "cell_type": "markdown",
   "metadata": {},
   "source": [
    "# Q9\n",
    "\n",
    "In a debugger, the three buttons have the following functions:\n",
    "- Step Over: This button allows you to execute the current line of code and move to the next line in the current function. If the current line contains a function call, it will execute the function without stepping into it.\n",
    "- Step In: This button allows you to enter (or \"step into\") the function call on the current line, allowing you to debug the code inside the function.\n",
    "- Step Out: This button allows you to continue execution until you exit the current function. It is useful when you've stepped into a function and want to return to the calling function."
   ]
  },
  {
   "cell_type": "markdown",
   "metadata": {},
   "source": [
    "# Q10\n",
    "\n",
    "After clicking \"Continue\" in a debugger, the debugger will stop when it encounters one of the following conditions:\n",
    "- A breakpoint is reached.\n",
    "- An exception is raised and not caught.\n",
    "- The program execution completes successfully."
   ]
  },
  {
   "cell_type": "markdown",
   "metadata": {},
   "source": [
    "# Q11\n",
    "\n",
    "A breakpoint is a designated point in your code where the debugger will pause execution, allowing you to inspect variables, step through code, and diagnose issues. Breakpoints are used for debugging purposes and are typically set at specific lines or conditions in your code where you want to investigate the program's state or behavior."
   ]
  }
 ],
 "metadata": {
  "kernelspec": {
   "display_name": "base",
   "language": "python",
   "name": "python3"
  },
  "language_info": {
   "codemirror_mode": {
    "name": "ipython",
    "version": 3
   },
   "file_extension": ".py",
   "mimetype": "text/x-python",
   "name": "python",
   "nbconvert_exporter": "python",
   "pygments_lexer": "ipython3",
   "version": "3.10.9"
  },
  "orig_nbformat": 4
 },
 "nbformat": 4,
 "nbformat_minor": 2
}
