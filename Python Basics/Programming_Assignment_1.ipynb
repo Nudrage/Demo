{
 "cells": [
  {
   "cell_type": "markdown",
   "metadata": {},
   "source": [
    "### 1. Write a Python program to print \"Hello Python\"?"
   ]
  },
  {
   "cell_type": "code",
   "execution_count": 4,
   "metadata": {},
   "outputs": [
    {
     "name": "stdout",
     "output_type": "stream",
     "text": [
      "Hello Python\n"
     ]
    }
   ],
   "source": [
    "print (\"Hello Python\")"
   ]
  },
  {
   "cell_type": "markdown",
   "metadata": {},
   "source": [
    "### 2. Write a Python program to do arithmetical operations addition and division.?"
   ]
  },
  {
   "cell_type": "code",
   "execution_count": 5,
   "metadata": {},
   "outputs": [
    {
     "name": "stdout",
     "output_type": "stream",
     "text": [
      "Addition: 8\n",
      "Division: 5.0\n"
     ]
    }
   ],
   "source": [
    "def addition(a, b):\n",
    "    return a + b\n",
    "\n",
    "def division(a, b):\n",
    "    if b == 0:\n",
    "        return \"Cannot divide by zero\"\n",
    "    return a / b\n",
    "\n",
    "# Example usage:\n",
    "print(\"Addition:\", addition(5, 3))\n",
    "print(\"Division:\", division(10, 2))\n"
   ]
  },
  {
   "cell_type": "markdown",
   "metadata": {},
   "source": [
    "### 3. Write a Python program to find the area of a triangle?"
   ]
  },
  {
   "cell_type": "code",
   "execution_count": 6,
   "metadata": {},
   "outputs": [
    {
     "name": "stdout",
     "output_type": "stream",
     "text": [
      "Area of the triangle: 25.0\n"
     ]
    }
   ],
   "source": [
    "def triangle_area(base, height):\n",
    "    return 0.5 * base * height\n",
    "\n",
    "# Example usage:\n",
    "base = 10\n",
    "height = 5\n",
    "print(\"Area of the triangle:\", triangle_area(base, height))\n"
   ]
  },
  {
   "cell_type": "markdown",
   "metadata": {},
   "source": [
    "### 4. Write a Python program to swap two variables?"
   ]
  },
  {
   "cell_type": "code",
   "execution_count": 7,
   "metadata": {},
   "outputs": [
    {
     "name": "stdout",
     "output_type": "stream",
     "text": [
      "Before swapping - x: 5 y: 10\n",
      "After swapping - x: 10 y: 5\n"
     ]
    }
   ],
   "source": [
    "def swap_variables(a, b):\n",
    "    a, b = b, a\n",
    "    return a, b\n",
    "\n",
    "# Example usage:\n",
    "x = 5\n",
    "y = 10\n",
    "print(\"Before swapping - x:\", x, \"y:\", y)\n",
    "x, y = swap_variables(x, y)\n",
    "print(\"After swapping - x:\", x, \"y:\", y)\n"
   ]
  },
  {
   "cell_type": "markdown",
   "metadata": {},
   "source": [
    "### 5. Write a Python program to generate a random number?"
   ]
  },
  {
   "cell_type": "code",
   "execution_count": 8,
   "metadata": {},
   "outputs": [
    {
     "name": "stdout",
     "output_type": "stream",
     "text": [
      "Random number between 1 and 100 : 56\n"
     ]
    }
   ],
   "source": [
    "import random\n",
    "\n",
    "def generate_random_number(start, end):\n",
    "    return random.randint(start, end)\n",
    "\n",
    "# Example usage:\n",
    "start = 1\n",
    "end = 100\n",
    "print(\"Random number between\", start, \"and\", end, \":\", generate_random_number(start, end))"
   ]
  }
 ],
 "metadata": {
  "kernelspec": {
   "display_name": "Python 3",
   "language": "python",
   "name": "python3"
  },
  "language_info": {
   "codemirror_mode": {
    "name": "ipython",
    "version": 3
   },
   "file_extension": ".py",
   "mimetype": "text/x-python",
   "name": "python",
   "nbconvert_exporter": "python",
   "pygments_lexer": "ipython3",
   "version": "3.10.9"
  }
 },
 "nbformat": 4,
 "nbformat_minor": 2
}
