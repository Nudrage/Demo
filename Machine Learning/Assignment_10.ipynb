{
 "cells": [
  {
   "cell_type": "markdown",
   "metadata": {},
   "source": [
    "### 1. Define the Bayesian interpretation of probability.\n",
    "\n",
    "\n",
    "In the Bayesian framework:\n",
    "\n",
    "1. **Prior Probability**: This represents the initial belief or probability assigned to a hypothesis before any evidence is considered. It reflects the subjective degree of belief in the hypothesis based on existing knowledge, experience, or other relevant information.\n",
    "2. **Likelihood**: This is the probability of observing the evidence given that the hypothesis is true. It quantifies how well the hypothesis explains the observed data.\n",
    "3. **Posterior Probability**: This is the updated probability of the hypothesis after taking into account the observed evidence. It is calculated using Bayes' theorem, which mathematically combines the prior probability and the likelihood to produce the posterior probability.\n",
    "\n",
    "Mathematically, Bayes' theorem can be expressed as:\n",
    "\\[ P(H|E) = $\\frac{P(E|H) \\times P(H)}{P(E)}$ \\]\n",
    "\n",
    "Where:\n",
    "- \\( P(H|E) \\) is the posterior probability of the hypothesis \\( H \\) given evidence \\( E \\).\n",
    "- \\( P(E|H) \\) is the likelihood of observing evidence \\( E \\) given hypothesis \\( H \\).\n",
    "- \\( P(H) \\) is the prior probability of hypothesis \\( H \\).\n",
    "- \\( P(E) \\) is the probability of observing evidence \\( E \\), also known as the marginal likelihood."
   ]
  },
  {
   "cell_type": "markdown",
   "metadata": {},
   "source": [
    "### 2. Define probability of a union of two events with equation.\n",
    "\n",
    "\n",
    "The probability of the union of two events, denoted as \\( P(A $\\cup$ B) \\), represents the probability that at least one of the two events \\( A \\) or \\( B \\) occurs. Mathematically, it can be defined using the equation: \\[ P(A $\\cup$ B) = P(A) + P(B) - P(A $\\cap$ B) \\]"
   ]
  },
  {
   "cell_type": "markdown",
   "metadata": {},
   "source": [
    "### 3. What is joint probability? What is its formula?\n",
    "\n",
    "\n",
    "Joint probability refers to the probability of two or more events occurring simultaneously. In other words, it measures the likelihood of the intersection of two or more events happening together. Mathematically, the joint probability \\( P(A $\\cap$ B) \\) of two events \\( A \\) and \\( B \\) occurring simultaneously is calculated using the following formula: \\[ P(A $\\cap$ B) = P(A) $\\times$ P(B|A) \\]\n"
   ]
  },
  {
   "cell_type": "markdown",
   "metadata": {},
   "source": [
    "### 4. What is chain rule of probability?\n",
    "\n",
    "\n",
    "The chain rule states that the joint probability of \\(n\\) events \\($A_{1}$, $A_{2}$, $\\ldots$, $A_{n}$\\) can be calculated by multiplying the conditional probabilities of each event given the occurrences of all preceding events. Mathematically, it can be expressed as follows:\n",
    "\n",
    "\\[ P($A_{1}$ $\\cap$ $A_{2}$ $\\cap$ $\\ldots$ $\\cap$ $A_{n}$) = P($A_{1}$) $\\times$ P($A_{2}$|$A_{1}$) $\\times$ P($A_{3}$|$A_{1}$ $\\cap$ $A_{2}$) $\\times$ $\\ldots$ $\\times$ P($A_{n}$|$A_{1}$ $\\cap$ $A_{2}$ $\\cap$ $\\ldots$ $\\cap$ $A_{n-1}$) \\]"
   ]
  },
  {
   "cell_type": "markdown",
   "metadata": {},
   "source": [
    "### 5. What is conditional probability means? What is the formula of it?\n",
    "\n",
    "\n",
    "Conditional probability is the probability of an event occurring given that another event has already occurred. It quantifies the likelihood of an event given certain conditions or information. Mathematically, the conditional probability of event \\(B\\) occurring given that event \\(A\\) has already occurred is denoted as \\(P(B|A)\\), read as \"the probability of \\(B\\) given \\(A\\)\". The formula for conditional probability is: \\[ P(B|A) = $\\frac{P(A \\cap B)}{P(A)}$ \\]"
   ]
  },
  {
   "cell_type": "markdown",
   "metadata": {},
   "source": [
    "### 6. What are continuous random variables?\n",
    "\n",
    "\n",
    "Continuous random variables are variables that can take on any value within a specified range or interval. Unlike discrete random variables, which can only assume distinct, separate values, continuous random variables can take on an infinite number of values within a given interval.\n",
    "\n",
    "Some key characteristics of continuous random variables include:\n",
    "\n",
    "1. **Infinite Possible Values**: Continuous random variables can take on an infinite number of values within a specified range or interval. For example, variables like time, distance, and temperature are often modeled as continuous random variables because they can take on any value within a certain range.\n",
    "2. **Probability Density Function (PDF)**: Instead of a probability mass function (PMF) like discrete random variables, continuous random variables are described by a probability density function (PDF). The PDF represents the probability distribution of the variable's values over the entire range. The area under the curve of the PDF within a specific interval represents the probability of the variable falling within that interval."
   ]
  },
  {
   "cell_type": "markdown",
   "metadata": {},
   "source": [
    "### 7. What are Bernoulli distributions? What is the formula of it?\n",
    "\n",
    "\n",
    "The Bernoulli distribution is a discrete probability distribution of a random variable that can take on one of two possible outcomes, typically labeled as success and failure, with respective probabilities \\( p \\) and \\( 1-p \\). It is named after the Swiss mathematician Jacob Bernoulli. \n",
    "\n",
    "The formula for the Bernoulli distribution is:\n",
    "\n",
    "\\[ P(X = x) = \n",
    "\\begin{cases} \n",
    "p & \\text{if } x = 1 \\\\\n",
    "1-p & \\text{if } x = 0 \n",
    "\\end{cases}\n",
    "\\]\n",
    "\n",
    "Where:\n",
    "- \\( P(X = x) \\) is the probability that the random variable \\( X \\) takes on the value \\( x \\).\n",
    "- \\( p \\) is the probability of success.\n",
    "- \\( 1-p \\) is the probability of failure.\n",
    "\n",
    "In this distribution, the random variable \\( X \\) can only take on the values 0 or 1, representing failure and success respectively."
   ]
  },
  {
   "cell_type": "markdown",
   "metadata": {},
   "source": [
    "### 8. What is binomial distribution? What is the formula?\n",
    "\n",
    "\n",
    "The binomial distribution is a discrete probability distribution that describes the number of successes in a fixed number of independent Bernoulli trials, each with the same probability of success, denoted by \\( p \\). The binomial distribution is characterized by two parameters: \\( n \\), the number of trials, and \\( p \\), the probability of success in each trial. The probability mass function (PMF) of the binomial distribution is given by the formula: \\[ P(X = k) = $\\binom{n}{k} \\times p^k \\times (1-p)^{n-k}$ \\]"
   ]
  },
  {
   "cell_type": "markdown",
   "metadata": {},
   "source": [
    "### 9. What is Poisson distribution? What is the formula?\n",
    "\n",
    "\n",
    "The Poisson distribution is a discrete probability distribution that describes the number of events that occur within a fixed interval of time or space, assuming that these events occur with a constant average rate and are independent of the time since the last event. It's named after the French mathematician Siméon Denis Poisson. The Poisson distribution is characterized by a single parameter, \\( $\\lambda$ \\), which represents the average rate of occurrence of the events within the specified interval. The probability mass function (PMF) of the Poisson distribution is given by the formula: \\[ P(X = k) = $\\frac{{e^{-\\lambda} \\times \\lambda^k}}{{k!}}$ \\]"
   ]
  },
  {
   "cell_type": "markdown",
   "metadata": {},
   "source": [
    "### 10. Define covariance.\n",
    "\n",
    "\n",
    "Covariance is a measure of the extent to which two random variables change together. In other words, it quantifies the degree to which two variables tend to move in relation to each other. If the covariance between two variables is positive, it indicates that they tend to increase or decrease together. If the covariance is negative, it suggests that as one variable increases, the other tends to decrease, and vice versa. If the covariance is close to zero, it implies that there is little to no linear relationship between the variables. Mathematically, the covariance between two random variables \\( X \\) and \\( Y \\) is calculated as: \\[ $\\text{Cov}(X, Y) = \\frac{1}{n} \\sum_{i=1}^{n} (x_i - \\bar{x})(y_i - \\bar{y})$ \\]"
   ]
  },
  {
   "cell_type": "markdown",
   "metadata": {},
   "source": [
    "### 11. Define correlation\n",
    "\n",
    "\n",
    "Correlation is a statistical measure that describes the strength and direction of a linear relationship between two variables. It quantifies how much one variable changes in relation to changes in another variable. In other words, it measures the extent to which the variables move together.\n",
    "\n",
    "There are two main types of correlation:\n",
    "\n",
    "1. **Positive Correlation**: When an increase in one variable is associated with an increase in the other variable, and a decrease in one variable is associated with a decrease in the other variable. In other words, the variables move in the same direction.\n",
    "2. **Negative Correlation**: When an increase in one variable is associated with a decrease in the other variable, and vice versa. In other words, the variables move in opposite directions.\n",
    "\n",
    "Correlation is often measured using Pearson's correlation coefficient, denoted by \\( r \\), which ranges from -1 to 1:\n",
    "\n",
    "- \\( r = 1 \\): Perfect positive correlation\n",
    "- \\( r = -1 \\): Perfect negative correlation\n",
    "- \\( r = 0 \\): No linear correlation (variables are not linearly related)\n",
    "\n",
    "The formula for Pearson's correlation coefficient is: \\[ r = $\\frac{{\\sum_{i=1}^{n}(x_i - \\bar{x})(y_i - \\bar{y})}}{{\\sqrt{\\sum_{i=1}^{n}(x_i - \\bar{x})^2} \\times \\sqrt{\\sum_{i=1}^{n}(y_i - \\bar{y})^2}}}$ \\]"
   ]
  },
  {
   "cell_type": "markdown",
   "metadata": {},
   "source": [
    "### 12. Define sampling with replacement. Give example.\n",
    "\n",
    "\n",
    "Sampling with replacement is a method of selecting items from a population in which each item is selected randomly and independently, and after being selected, it is placed back into the population before the next selection is made. This means that each item has the same probability of being selected each time, and it's possible for an item to be selected more than once in the sample.\n",
    "\n",
    "For example, let's consider a bag containing colored marbles: 3 red marbles, 2 blue marbles, and 1 green marble. If we were to sample three marbles from this bag with replacement, here's how it might proceed:\n",
    "\n",
    "1. We randomly select a marble from the bag. Let's say we pick a red marble. After recording its color, we put it back into the bag.\n",
    "2. We again randomly select a marble from the bag. This time, let's say we pick a blue marble. We record its color and return it to the bag.\n",
    "3. Once more, we randomly select a marble from the bag. Let's assume we pick a red marble again. We record its color and return it to the bag."
   ]
  },
  {
   "cell_type": "markdown",
   "metadata": {},
   "source": [
    "### 13. What is sampling without replacement? Give example.\n",
    "\n",
    "\n",
    "Sampling without replacement is a method of selecting items from a population in which each item is selected randomly and independently, but once an item is selected, it is not returned to the population before the next selection is made. This means that each subsequent selection is made from a reduced population size.\n",
    "\n",
    "For example, let's consider a deck of playing cards containing 52 cards. If we were to sample three cards from this deck without replacement, here's how it might proceed:\n",
    "\n",
    "1. We randomly select a card from the deck. Let's say we pick the 7 of hearts. After recording its value and suit, we remove it from the deck.\n",
    "2. We again randomly select a card from the remaining deck. This time, let's say we pick the king of spades. We record its value and suit and remove it from the deck.\n",
    "3. Once more, we randomly select a card from the reduced deck. Let's assume we pick the 4 of diamonds. We record its value and suit and remove it from the deck."
   ]
  },
  {
   "cell_type": "markdown",
   "metadata": {},
   "source": [
    "### 14. What is hypothesis? Give example.\n",
    "\n",
    "\n",
    "In statistics, a hypothesis is a statement or assumption about the characteristics of a population or a process that we seek to test using data. Hypotheses are typically formulated as assertions about the values of parameters, distributions, or relationships within the population. \n",
    "\n",
    "There are two main types of hypotheses:\n",
    "\n",
    "1. **Null Hypothesis (H0)**: This hypothesis represents the status quo or the absence of an effect. It states that there is no significant difference, relationship, or effect present in the population. The null hypothesis is typically denoted as \\($H_{0}$\\).\n",
    "\n",
    "2. **Alternative Hypothesis (H1 or Ha)**: This hypothesis contradicts the null hypothesis and asserts that there is a significant difference, relationship, or effect present in the population. The alternative hypothesis is what the researcher is trying to provide evidence for. It can take different forms depending on the nature of the research question.\n",
    "\n",
    "For example, let's consider a pharmaceutical company testing a new drug designed to lower blood pressure. Here are hypothetical null and alternative hypotheses for their study:\n",
    "\n",
    "- Null Hypothesis (\\($H_{0}$\\)): The new drug has no effect on lowering blood pressure.\n",
    "- Alternative Hypothesis (\\($H_{1}$\\)): The new drug lowers blood pressure significantly.\n"
   ]
  }
 ],
 "metadata": {
  "language_info": {
   "name": "python"
  }
 },
 "nbformat": 4,
 "nbformat_minor": 2
}
