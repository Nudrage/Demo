{
 "cells": [
  {
   "cell_type": "markdown",
   "metadata": {},
   "source": [
    "# <center> iNeuron Machine Learning Assignment-4 </center>"
   ]
  },
  {
   "cell_type": "markdown",
   "metadata": {},
   "source": [
    "![Alt text](image.png)"
   ]
  },
  {
   "cell_type": "markdown",
   "metadata": {},
   "source": [
    "# Q1\n",
    "\n",
    "Key Tasks in Preparing for Machine Learning Modeling:\n",
    "- Data Collection: Gather relevant data from multiple sources.\n",
    "- Data Cleaning: Identify and handle missing or erroneous data.\n",
    "- Data Exploration: Understand data distribution, statistics, and patterns.\n",
    "- Feature Engineering: Select, create, or transform features for modeling.\n",
    "- Data Preprocessing: Normalize, scale, or encode data for consistency.\n",
    "- Data Splitting: Divide data into training and testing sets.\n",
    "- Feature Selection: Choose relevant features for modeling.\n",
    "- Dimensionality Reduction: Reduce the number of features while retaining important information.\n",
    "- Handling Imbalanced Data: Address class imbalance issues if present.\n",
    "- Data Visualization: Create visual representations for insights.\n",
    "- Data Validation: Ensure data quality, consistency, and integrity."
   ]
  },
  {
   "cell_type": "markdown",
   "metadata": {},
   "source": [
    "# Q2\n",
    "\n",
    "Forms of Data in Machine Learning:\n",
    "- Numerical Data: Includes quantitative values like age, income, temperature. Example: Measuring temperatures at different locations.\n",
    "- Categorical Data: Represents categories or labels. Example: Classifying products into categories like electronics, clothing, or food."
   ]
  },
  {
   "cell_type": "markdown",
   "metadata": {},
   "source": [
    "# Q3\n",
    "\n",
    "Distinguishing:\n",
    "- Numeric vs. Categorical Attributes:\n",
    "\n",
    "Numeric Attributes Represent measurable quantities and can be operated on mathematically (e.g., age, temperature) while Categorical Attributes: Represent discrete categories or labels and are non-numeric (e.g., color, product type).\n",
    "\n",
    "- Feature Selection vs. Dimensionality Reduction:\n",
    "\n",
    "Feature Selection Involves choosing a subset of the most relevant features for modeling while retaining their original meaning while Dimensionality Reduction Reduces the number of features by creating new ones, typically using techniques like Principal Component Analysis (PCA)."
   ]
  },
  {
   "cell_type": "markdown",
   "metadata": {},
   "source": [
    "# Q4\n",
    "\n",
    "Quick Notes:\n",
    "- Histogram: A graphical representation of data distribution, displaying data points in bins or intervals. Helps visualize data frequency and patterns.\n",
    "- Scatter Plot: Shows relationships between two variables, with data points plotted as individual dots. Useful for identifying correlations and outliers.\n",
    "- PCA (Principal Component Analysis): A dimensionality reduction technique that transforms data into a new set of uncorrelated variables (principal components) while preserving as much variance as possible."
   ]
  },
  {
   "cell_type": "markdown",
   "metadata": {},
   "source": [
    "# Q5\n",
    "\n",
    "Data Investigation Necessity:\n",
    "- Investigating data is crucial to understand its characteristics, identify anomalies, validate assumptions, and guide preprocessing.\n",
    "- Qualitative and quantitative data exploration may differ in techniques but share the goal of gaining insights into the data's nature."
   ]
  },
  {
   "cell_type": "markdown",
   "metadata": {},
   "source": [
    "# Q6\n",
    "\n",
    "Histogram Shapes and 'Bins':\n",
    "- Histogram Shapes: Common shapes include bell-shaped (normal distribution), skewed (positively or negatively), bimodal (two peaks), and uniform (flat).\n",
    "- 'Bins': Bins are intervals into which data is divided in a histogram. They determine the width and granularity of the histogram."
   ]
  },
  {
   "cell_type": "markdown",
   "metadata": {},
   "source": [
    "# Q7\n",
    "\n",
    "\n",
    "Outliers can be handled by:\n",
    "- Detection and removal: Identifying and eliminating extreme values.\n",
    "- Transformation: Applying mathematical transformations (e.g., log) to mitigate extreme values.\n",
    "- Winsorization: Capping extreme values at a specified threshold."
   ]
  },
  {
   "cell_type": "markdown",
   "metadata": {},
   "source": [
    "# Q8\n",
    "\n",
    "Central Inclination Measures: Measures include mean (average), median (middle value), and mode (most frequent). Mean varies from median in skewed datasets due to extreme values pulling the mean away from the center."
   ]
  },
  {
   "cell_type": "markdown",
   "metadata": {},
   "source": [
    "# Q9\n",
    "\n",
    "Scatter Plot for Investigating Bivariate Relationships: Scatter plots show how two variables relate by plotting data points. Patterns, trends, correlations, and outliers can be identified. Outliers are visible as data points far from the main cluster."
   ]
  },
  {
   "cell_type": "markdown",
   "metadata": {},
   "source": [
    "# Q10\n",
    "\n",
    "Cross-Tabulation (Cross-Tab) for Investigating Relationships: Cross-tabs show how two categorical variables are related. They present data in a contingency table, allowing you to examine associations and frequencies between categories in each variable."
   ]
  }
 ],
 "metadata": {
  "kernelspec": {
   "display_name": "base",
   "language": "python",
   "name": "python3"
  },
  "language_info": {
   "name": "python",
   "version": "3.10.9"
  },
  "orig_nbformat": 4
 },
 "nbformat": 4,
 "nbformat_minor": 2
}
